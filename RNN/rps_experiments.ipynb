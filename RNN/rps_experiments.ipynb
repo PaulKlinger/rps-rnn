{
 "cells": [
  {
   "cell_type": "code",
   "execution_count": null,
   "metadata": {},
   "outputs": [],
   "source": [
    "# This notebook contains some experiments and obsolete code.\n",
    "# It is superseded by rps_train.ipynb and rps_quantize_and_test.ipynb"
   ]
  },
  {
   "cell_type": "code",
   "execution_count": 7,
   "metadata": {},
   "outputs": [],
   "source": [
    "import os\n",
    "import numpy as np\n",
    "import tensorflow as tf\n",
    "import tensorflow.keras.backend as K\n",
    "import seaborn as sb\n",
    "\n",
    "import random\n",
    "\n",
    "tf.enable_eager_execution()"
   ]
  },
  {
   "cell_type": "code",
   "execution_count": 4,
   "metadata": {},
   "outputs": [],
   "source": [
    "raw_data = []\n",
    "with open(\"Rock_Paper_Scissors_Raw.csv\", encoding=\"utf-8\") as f:\n",
    "    f.readline() # header\n",
    "    for line in f:\n",
    "        raw_data.append([int(c) for c in line.split(\",\")])"
   ]
  },
  {
   "cell_type": "code",
   "execution_count": 5,
   "metadata": {},
   "outputs": [],
   "source": [
    "game_data = []\n",
    "current_game_id = None\n",
    "current_game = []\n",
    "\n",
    "for r in raw_data:\n",
    "    if r[2] == 0 or r[3] ==0:\n",
    "        continue\n",
    "    if current_game_id != r[0]:\n",
    "        game_data.append(current_game)\n",
    "        current_game_id = r[0]\n",
    "        current_game = []\n",
    "    current_game.append((r[2], r[3]))\n",
    "\n",
    "game_data = game_data[1:]"
   ]
  },
  {
   "cell_type": "code",
   "execution_count": 12,
   "metadata": {},
   "outputs": [
    {
     "data": {
      "text/plain": [
       "85566"
      ]
     },
     "execution_count": 12,
     "metadata": {},
     "output_type": "execute_result"
    }
   ],
   "source": [
    "len(game_data)"
   ]
  },
  {
   "cell_type": "code",
   "execution_count": 5,
   "metadata": {
    "scrolled": true
   },
   "outputs": [
    {
     "data": {
      "text/plain": [
       "Counter({1: 21197, 3: 15479, 2: 19738})"
      ]
     },
     "execution_count": 5,
     "metadata": {},
     "output_type": "execute_result"
    }
   ],
   "source": [
    "from collections import Counter\n",
    "\n",
    "Counter([g[0][0] for g in game_data if len(g) > 3])"
   ]
  },
  {
   "cell_type": "code",
   "execution_count": 23,
   "metadata": {},
   "outputs": [],
   "source": [
    "game_data_simulated = []\n",
    "r_move = lambda : random.choice((1,2,3))\n",
    "\n",
    "# length=1 (constant)\n",
    "game_data_simulated += [[(move, r_move()) for i in range(20)] for move in (1,2,3) for i_g in range(500)]\n",
    "\n",
    "# length=2 (alternating)\n",
    "game_data_simulated += [sum(([(move1, r_move()), (move2, r_move())] for i in range(10)), [])\n",
    "                        for move1 in (1,2,3) for move2 in (1,2,3) for i_g in range(200)]\n",
    "\n",
    "# length=3 \n",
    "game_data_simulated += [sum(([(move1, r_move()), (move2, r_move()), (move3, r_move())] for i in range(7)), [])\n",
    "                        for move1 in (1,2,3) for move2 in (1,2,3) for move3 in (1,2,3) for i_g in range(150)]\n",
    "\n",
    "# length=4\n",
    "game_data_simulated += [sum(([(move1, r_move()), (move2, r_move()), (move3, r_move()), (move4, r_move())]\n",
    "                             for i in range(5)), [])\n",
    "                        for move1 in (1,2,3) for move2 in (1,2,3) for move3 in (1,2,3) for move4 in (1,2,3) \n",
    "                        for i_g in range(50)]\n"
   ]
  },
  {
   "cell_type": "code",
   "execution_count": 24,
   "metadata": {
    "scrolled": true
   },
   "outputs": [
    {
     "data": {
      "text/plain": [
       "11400"
      ]
     },
     "execution_count": 24,
     "metadata": {},
     "output_type": "execute_result"
    }
   ],
   "source": [
    "len(game_data_simulated)"
   ]
  },
  {
   "cell_type": "code",
   "execution_count": 26,
   "metadata": {},
   "outputs": [],
   "source": [
    "def enc_game(game, invert=False):\n",
    "    game_enc = []\n",
    "    # we add a zero input to the beginning\n",
    "    # as the model should be able to predict the first move\n",
    "    game_enc.append([0] * 6)\n",
    "    for p1, p2 in game:\n",
    "        if invert:\n",
    "            p1, p2 = p2, p1\n",
    "        game_enc.append([0] * 6)\n",
    "        game_enc[-1][p1 - 1] = 1\n",
    "        game_enc[-1][p2 - 1 + 3] = 1\n",
    "    return game_enc"
   ]
  },
  {
   "cell_type": "code",
   "execution_count": 27,
   "metadata": {},
   "outputs": [],
   "source": [
    "game_data_one_hot = []\n",
    "for game in game_data:\n",
    "    # for real games we can use both players to train\n",
    "    for invert in (True, False):\n",
    "        game_data_one_hot.append(enc_game(game, invert=invert))\n",
    "for game in game_data_simulated:\n",
    "    # for simulated games we don't train on the player playing randomly\n",
    "    game_data_one_hot.append(enc_game(game))"
   ]
  },
  {
   "cell_type": "code",
   "execution_count": 101,
   "metadata": {},
   "outputs": [],
   "source": [
    "# masking seems to do something, but the models trained with it behave very weirdly...\n",
    "# after a few moves they believe with 99.99999% probability that some move will be played\n",
    "# and get stuck at that ludicrous confidence\n",
    "\n",
    "game_data_padded = tf.keras.preprocessing.sequence.pad_sequences(game_data_one_hot, maxlen=21, value=-1.0,\n",
    "                                                                 truncating=\"post\", padding=\"post\"\n",
    "                                                                ).astype(\"float32\")"
   ]
  },
  {
   "cell_type": "code",
   "execution_count": 102,
   "metadata": {},
   "outputs": [
    {
     "data": {
      "text/plain": [
       "(171132, 21, 6)"
      ]
     },
     "execution_count": 102,
     "metadata": {},
     "output_type": "execute_result"
    }
   ],
   "source": [
    "game_data_padded.shape"
   ]
  },
  {
   "cell_type": "code",
   "execution_count": 103,
   "metadata": {},
   "outputs": [],
   "source": [
    "X = game_data_padded[:, :20, :]\n",
    "# The first three components in axis=-1 are the opponents throw\n",
    "Y = game_data_padded[:, 1:, :3]"
   ]
  },
  {
   "cell_type": "code",
   "execution_count": 105,
   "metadata": {
    "scrolled": true
   },
   "outputs": [
    {
     "data": {
      "text/plain": [
       "array([[ 0.,  0.,  0.,  0.,  0.,  0.],\n",
       "       [ 1.,  0.,  0.,  1.,  0.,  0.],\n",
       "       [ 0.,  0.,  1.,  0.,  1.,  0.],\n",
       "       [ 0.,  1.,  0.,  0.,  0.,  1.],\n",
       "       [ 1.,  0.,  0.,  1.,  0.,  0.],\n",
       "       [ 0.,  1.,  0.,  1.,  0.,  0.],\n",
       "       [ 0.,  0.,  1.,  0.,  1.,  0.],\n",
       "       [-1., -1., -1., -1., -1., -1.],\n",
       "       [-1., -1., -1., -1., -1., -1.],\n",
       "       [-1., -1., -1., -1., -1., -1.],\n",
       "       [-1., -1., -1., -1., -1., -1.],\n",
       "       [-1., -1., -1., -1., -1., -1.],\n",
       "       [-1., -1., -1., -1., -1., -1.],\n",
       "       [-1., -1., -1., -1., -1., -1.],\n",
       "       [-1., -1., -1., -1., -1., -1.],\n",
       "       [-1., -1., -1., -1., -1., -1.],\n",
       "       [-1., -1., -1., -1., -1., -1.],\n",
       "       [-1., -1., -1., -1., -1., -1.],\n",
       "       [-1., -1., -1., -1., -1., -1.],\n",
       "       [-1., -1., -1., -1., -1., -1.]], dtype=float32)"
      ]
     },
     "execution_count": 105,
     "metadata": {},
     "output_type": "execute_result"
    }
   ],
   "source": [
    "X[0]"
   ]
  },
  {
   "cell_type": "code",
   "execution_count": 106,
   "metadata": {},
   "outputs": [
    {
     "data": {
      "text/plain": [
       "array([[ 1.,  0.,  0.],\n",
       "       [ 0.,  0.,  1.],\n",
       "       [ 0.,  1.,  0.],\n",
       "       [ 1.,  0.,  0.],\n",
       "       [ 0.,  1.,  0.],\n",
       "       [ 0.,  0.,  1.],\n",
       "       [-1., -1., -1.],\n",
       "       [-1., -1., -1.],\n",
       "       [-1., -1., -1.],\n",
       "       [-1., -1., -1.],\n",
       "       [-1., -1., -1.],\n",
       "       [-1., -1., -1.],\n",
       "       [-1., -1., -1.],\n",
       "       [-1., -1., -1.],\n",
       "       [-1., -1., -1.],\n",
       "       [-1., -1., -1.],\n",
       "       [-1., -1., -1.],\n",
       "       [-1., -1., -1.],\n",
       "       [-1., -1., -1.],\n",
       "       [-1., -1., -1.]], dtype=float32)"
      ]
     },
     "execution_count": 106,
     "metadata": {},
     "output_type": "execute_result"
    }
   ],
   "source": [
    "Y[0]"
   ]
  },
  {
   "cell_type": "code",
   "execution_count": 58,
   "metadata": {},
   "outputs": [],
   "source": [
    "# adding sample weights doesn't seem to work correctly\n",
    "\n",
    "# although if I set all weights to zero that seems to have the expected effect\n",
    "\n",
    "sample_weights_temporal = np.zeros(Y.shape[:-1]).astype(np.float32)\n",
    "\n",
    "for i,g in enumerate(game_data):\n",
    "    sample_weights_temporal[i, :len(g)] = 1"
   ]
  },
  {
   "cell_type": "code",
   "execution_count": 32,
   "metadata": {},
   "outputs": [
    {
     "data": {
      "text/plain": [
       "(171132, 20)"
      ]
     },
     "execution_count": 32,
     "metadata": {},
     "output_type": "execute_result"
    }
   ],
   "source": [
    "sample_weights_temporal.shape"
   ]
  },
  {
   "cell_type": "code",
   "execution_count": 154,
   "metadata": {},
   "outputs": [
    {
     "name": "stdout",
     "output_type": "stream",
     "text": [
      "WARNING:tensorflow:From c:\\users\\paul\\appdata\\local\\programs\\python\\python37\\lib\\site-packages\\tensorflow\\python\\data\\ops\\dataset_ops.py:429: py_func (from tensorflow.python.ops.script_ops) is deprecated and will be removed in a future version.\n",
      "Instructions for updating:\n",
      "tf.py_func is deprecated in TF V2. Instead, use\n",
      "    tf.py_function, which takes a python function which manipulates tf eager\n",
      "    tensors instead of numpy arrays. It's easy to convert a tf eager tensor to\n",
      "    an ndarray (just call tensor.numpy()) but having access to eager tensors\n",
      "    means `tf.py_function`s can use accelerators such as GPUs as well as\n",
      "    being differentiable using a gradient tape.\n",
      "    \n"
     ]
    }
   ],
   "source": [
    "# for batchsize=1 training\n",
    "# training with batchsize 1 is very slow but the resulting models at least make sense\n",
    "\n",
    "X = [game[:-1] for game in game_data_one_hot]\n",
    "Y = [[move[:3] for move in game[1:]] for game in game_data_one_hot]\n",
    "X_np = [np.array(x).astype(np.float32) for x in X]\n",
    "Y_np = [np.array(y).astype(np.float32) for y in Y]\n",
    "dataset = tf.data.Dataset.from_generator(lambda: zip(X_np, Y_np), output_types=(tf.dtypes.float32, tf.dtypes.float32))"
   ]
  },
  {
   "cell_type": "code",
   "execution_count": 107,
   "metadata": {},
   "outputs": [],
   "source": [
    "#dataset = tf.data.Dataset.from_tensor_slices((X, Y))"
   ]
  },
  {
   "cell_type": "code",
   "execution_count": 155,
   "metadata": {},
   "outputs": [],
   "source": [
    "test_size = 2000\n",
    "dev_size = 2000\n",
    "dataset = dataset.shuffle(10000)\n",
    "test_dataset = dataset.take(test_size)\n",
    "dev_dataset = dataset.skip(test_size).take(dev_size)\n",
    "train_dataset = dataset.skip(test_size + dev_size)\n",
    "train_size = len(X) - test_size - dev_size"
   ]
  },
  {
   "cell_type": "code",
   "execution_count": 120,
   "metadata": {},
   "outputs": [
    {
     "ename": "AttributeError",
     "evalue": "'list' object has no attribute 'shape'",
     "output_type": "error",
     "traceback": [
      "\u001b[1;31m---------------------------------------------------------------------------\u001b[0m",
      "\u001b[1;31mAttributeError\u001b[0m                            Traceback (most recent call last)",
      "\u001b[1;32m<ipython-input-120-b37ae5b39d93>\u001b[0m in \u001b[0;36m<module>\u001b[1;34m\u001b[0m\n\u001b[1;32m----> 1\u001b[1;33m \u001b[0mprint\u001b[0m\u001b[1;33m(\u001b[0m\u001b[0mX\u001b[0m\u001b[1;33m.\u001b[0m\u001b[0mshape\u001b[0m\u001b[1;33m,\u001b[0m \u001b[0mY\u001b[0m\u001b[1;33m.\u001b[0m\u001b[0mshape\u001b[0m\u001b[1;33m)\u001b[0m\u001b[1;33m\u001b[0m\u001b[1;33m\u001b[0m\u001b[0m\n\u001b[0m",
      "\u001b[1;31mAttributeError\u001b[0m: 'list' object has no attribute 'shape'"
     ]
    }
   ],
   "source": [
    "#print(X.shape, Y.shape)"
   ]
  },
  {
   "cell_type": "code",
   "execution_count": 66,
   "metadata": {},
   "outputs": [
    {
     "data": {
      "text/plain": [
       "65697"
      ]
     },
     "execution_count": 66,
     "metadata": {},
     "output_type": "execute_result"
    }
   ],
   "source": [
    "len([1 for g in game_data if 20 >= len(g) >= 3])"
   ]
  },
  {
   "cell_type": "code",
   "execution_count": 67,
   "metadata": {},
   "outputs": [
    {
     "data": {
      "text/plain": [
       "<matplotlib.axes._subplots.AxesSubplot at 0x191c2a64438>"
      ]
     },
     "execution_count": 67,
     "metadata": {},
     "output_type": "execute_result"
    },
    {
     "data": {
      "image/png": "[encoded data removed]",
      "text/plain": [
       "<Figure size 432x288 with 1 Axes>"
      ]
     },
     "metadata": {
      "needs_background": "light"
     },
     "output_type": "display_data"
    }
   ],
   "source": [
    "sb.distplot(list(map(len, game_data)))"
   ]
  },
  {
   "cell_type": "code",
   "execution_count": 2,
   "metadata": {},
   "outputs": [],
   "source": [
    "def build_simple_model(state_dim, batch_size, stateful=False):\n",
    "    return tf.keras.Sequential([\n",
    "        #tf.keras.layers.Masking(mask_value=-1.0, batch_input_shape=[batch_size, None, 6]),\n",
    "        tf.keras.layers.SimpleRNN(state_dim, batch_input_shape=[batch_size, None, 6],\n",
    "                                 return_sequences=True,  stateful=stateful),\n",
    "        tf.keras.layers.Dense(3),\n",
    "        tf.keras.layers.Softmax()\n",
    "    ])"
   ]
  },
  {
   "cell_type": "code",
   "execution_count": 159,
   "metadata": {},
   "outputs": [],
   "source": [
    "def build_simple_2_layer_model(state1_dim, state2_dim,  batch_size, stateful=False):\n",
    "    return tf.keras.Sequential([\n",
    "        #tf.keras.layers.Masking(mask_value=-1.0, batch_input_shape=[batch_size, None, 6]),\n",
    "        tf.keras.layers.SimpleRNN(state1_dim, batch_input_shape=[batch_size, None, 6],\n",
    "                                 return_sequences=True,  stateful=stateful),\n",
    "        tf.keras.layers.SimpleRNN(state2_dim, return_sequences=True, stateful=stateful),\n",
    "        tf.keras.layers.Dense(3),\n",
    "        tf.keras.layers.Softmax()\n",
    "    ])"
   ]
  },
  {
   "cell_type": "code",
   "execution_count": 162,
   "metadata": {},
   "outputs": [],
   "source": [
    "batch_size = 1\n",
    "train_dataset_batched = train_dataset.batch(batch_size, drop_remainder=True).repeat()\n",
    "simple_2l_model = build_simple_2_layer_model(10, 6, batch_size)\n",
    "opt = tf.keras.optimizers.Adam(lr=0.001)\n",
    "simple_2l_model.compile(opt, loss=tf.keras.losses.categorical_crossentropy,metrics = [\"accuracy\"])"
   ]
  },
  {
   "cell_type": "code",
   "execution_count": 165,
   "metadata": {},
   "outputs": [],
   "source": [
    "tf.keras.backend.set_value(simple_model.optimizer.lr, 0.01)"
   ]
  },
  {
   "cell_type": "code",
   "execution_count": 167,
   "metadata": {
    "scrolled": true
   },
   "outputs": [
    {
     "name": "stdout",
     "output_type": "stream",
     "text": [
      "Epoch 1/10\n",
      "167132/167132 [==============================] - 1169s 7ms/step - loss: 1.0909 - acc: 0.3813\n",
      "Epoch 2/10\n",
      "167132/167132 [==============================] - 1161s 7ms/step - loss: 1.0906 - acc: 0.3823\n",
      "Epoch 3/10\n",
      "167132/167132 [==============================] - 1154s 7ms/step - loss: 1.0906 - acc: 0.3828\n",
      "Epoch 4/10\n",
      "167132/167132 [==============================] - 1155s 7ms/step - loss: 1.0905 - acc: 0.3824\n",
      "Epoch 5/10\n",
      "167132/167132 [==============================] - 1151s 7ms/step - loss: 1.0903 - acc: 0.3835\n",
      "Epoch 6/10\n",
      "167132/167132 [==============================] - 1151s 7ms/step - loss: 1.0903 - acc: 0.3838\n",
      "Epoch 7/10\n",
      "167132/167132 [==============================] - 1147s 7ms/step - loss: 1.0901 - acc: 0.3842\n",
      "Epoch 8/10\n",
      "167132/167132 [==============================] - 1152s 7ms/step - loss: 1.0901 - acc: 0.3843\n",
      "Epoch 9/10\n",
      "167132/167132 [==============================] - 1157s 7ms/step - loss: 1.0902 - acc: 0.3847\n",
      "Epoch 10/10\n",
      "167132/167132 [==============================] - 1150s 7ms/step - loss: 1.0901 - acc: 0.3848\n"
     ]
    },
    {
     "data": {
      "text/plain": [
       "<tensorflow.python.keras.callbacks.History at 0x1abe4346c18>"
      ]
     },
     "execution_count": 167,
     "metadata": {},
     "output_type": "execute_result"
    }
   ],
   "source": [
    "simple_2l_model.fit(train_dataset_batched, steps_per_epoch=train_size // batch_size, epochs=10)"
   ]
  },
  {
   "cell_type": "code",
   "execution_count": 168,
   "metadata": {},
   "outputs": [
    {
     "name": "stdout",
     "output_type": "stream",
     "text": [
      "Epoch 1/10\n",
      "167132/167132 [==============================] - 1150s 7ms/step - loss: 1.0901 - acc: 0.3844\n",
      "Epoch 2/10\n",
      "167132/167132 [==============================] - 1150s 7ms/step - loss: 1.0901 - acc: 0.3843\n",
      "Epoch 3/10\n",
      "167132/167132 [==============================] - 1149s 7ms/step - loss: 1.0900 - acc: 0.3845\n",
      "Epoch 4/10\n",
      "167132/167132 [==============================] - 1152s 7ms/step - loss: 1.0901 - acc: 0.3844\n",
      "Epoch 5/10\n",
      "167132/167132 [==============================] - 1147s 7ms/step - loss: 1.0900 - acc: 0.3846\n",
      "Epoch 6/10\n",
      "167132/167132 [==============================] - 1151s 7ms/step - loss: 1.0899 - acc: 0.3846\n",
      "Epoch 7/10\n",
      "167132/167132 [==============================] - 1149s 7ms/step - loss: 1.0900 - acc: 0.3844\n",
      "Epoch 8/10\n",
      "167132/167132 [==============================] - 1149s 7ms/step - loss: 1.0900 - acc: 0.3848\n",
      "Epoch 9/10\n",
      "167132/167132 [==============================] - 1153s 7ms/step - loss: 1.0900 - acc: 0.3844\n",
      "Epoch 10/10\n",
      "167132/167132 [==============================] - 1150s 7ms/step - loss: 1.0900 - acc: 0.3842\n"
     ]
    },
    {
     "data": {
      "text/plain": [
       "<tensorflow.python.keras.callbacks.History at 0x1abde9f10f0>"
      ]
     },
     "execution_count": 168,
     "metadata": {},
     "output_type": "execute_result"
    }
   ],
   "source": [
    "simple_2l_model.fit(train_dataset_batched, steps_per_epoch=train_size // batch_size, epochs=10)"
   ]
  },
  {
   "cell_type": "code",
   "execution_count": 169,
   "metadata": {},
   "outputs": [],
   "source": [
    "tf.keras.backend.set_value(simple_model.optimizer.lr, 0.001)"
   ]
  },
  {
   "cell_type": "code",
   "execution_count": 170,
   "metadata": {},
   "outputs": [
    {
     "name": "stdout",
     "output_type": "stream",
     "text": [
      "Epoch 1/10\n",
      "167132/167132 [==============================] - 1150s 7ms/step - loss: 1.0899 - acc: 0.3849\n",
      "Epoch 2/10\n",
      "167132/167132 [==============================] - 1148s 7ms/step - loss: 1.0901 - acc: 0.3849\n",
      "Epoch 3/10\n",
      "167132/167132 [==============================] - 1148s 7ms/step - loss: 1.0900 - acc: 0.3848\n",
      "Epoch 4/10\n",
      "167132/167132 [==============================] - 1146s 7ms/step - loss: 1.0900 - acc: 0.3848\n",
      "Epoch 5/10\n",
      "167132/167132 [==============================] - 1147s 7ms/step - loss: 1.0899 - acc: 0.3845\n",
      "Epoch 6/10\n",
      "167132/167132 [==============================] - 1144s 7ms/step - loss: 1.0900 - acc: 0.3844\n",
      "Epoch 7/10\n",
      "167132/167132 [==============================] - 1145s 7ms/step - loss: 1.0899 - acc: 0.3854\n",
      "Epoch 8/10\n",
      "167132/167132 [==============================] - 1150s 7ms/step - loss: 1.0900 - acc: 0.3850\n",
      "Epoch 9/10\n",
      "167132/167132 [==============================] - 1151s 7ms/step - loss: 1.0900 - acc: 0.3852\n",
      "Epoch 10/10\n",
      "167132/167132 [==============================] - 1152s 7ms/step - loss: 1.0899 - acc: 0.3842\n"
     ]
    },
    {
     "data": {
      "text/plain": [
       "<tensorflow.python.keras.callbacks.History at 0x1abde9f13c8>"
      ]
     },
     "execution_count": 170,
     "metadata": {},
     "output_type": "execute_result"
    }
   ],
   "source": [
    "simple_2l_model.fit(train_dataset_batched, steps_per_epoch=train_size // batch_size, epochs=10)"
   ]
  },
  {
   "cell_type": "code",
   "execution_count": 171,
   "metadata": {},
   "outputs": [
    {
     "name": "stdout",
     "output_type": "stream",
     "text": [
      "Epoch 1/10\n",
      "167132/167132 [==============================] - 1145s 7ms/step - loss: 1.0899 - acc: 0.3849\n",
      "Epoch 2/10\n",
      "167132/167132 [==============================] - 1147s 7ms/step - loss: 1.0900 - acc: 0.3845\n",
      "Epoch 3/10\n",
      "167132/167132 [==============================] - 1154s 7ms/step - loss: 1.0899 - acc: 0.3845\n",
      "Epoch 4/10\n",
      "167132/167132 [==============================] - 1154s 7ms/step - loss: 1.0899 - acc: 0.3847\n",
      "Epoch 5/10\n",
      "167132/167132 [==============================] - 1155s 7ms/step - loss: 1.0899 - acc: 0.3849\n",
      "Epoch 6/10\n",
      "167132/167132 [==============================] - 1156s 7ms/step - loss: 1.0899 - acc: 0.3847\n",
      "Epoch 7/10\n",
      "167132/167132 [==============================] - 1153s 7ms/step - loss: 1.0900 - acc: 0.3846\n",
      "Epoch 8/10\n",
      "167132/167132 [==============================] - 1151s 7ms/step - loss: 1.0899 - acc: 0.3853\n",
      "Epoch 9/10\n",
      "167132/167132 [==============================] - 1153s 7ms/step - loss: 1.0899 - acc: 0.3853\n",
      "Epoch 10/10\n",
      "167132/167132 [==============================] - 1147s 7ms/step - loss: 1.0899 - acc: 0.3851\n"
     ]
    },
    {
     "data": {
      "text/plain": [
       "<tensorflow.python.keras.callbacks.History at 0x1abde9f1ba8>"
      ]
     },
     "execution_count": 171,
     "metadata": {},
     "output_type": "execute_result"
    }
   ],
   "source": [
    "simple_2l_model.fit(train_dataset_batched, steps_per_epoch=train_size // batch_size, epochs=10)"
   ]
  },
  {
   "cell_type": "code",
   "execution_count": 212,
   "metadata": {
    "scrolled": true
   },
   "outputs": [
    {
     "name": "stdout",
     "output_type": "stream",
     "text": [
      "Epoch 1/20\n",
      "167132/167132 [==============================] - 1164s 7ms/step - loss: 1.0888 - acc: 0.3872\n",
      "Epoch 2/20\n",
      "167132/167132 [==============================] - 1157s 7ms/step - loss: 1.0886 - acc: 0.3878\n",
      "Epoch 3/20\n",
      "167132/167132 [==============================] - 1153s 7ms/step - loss: 1.0886 - acc: 0.3879\n",
      "Epoch 4/20\n",
      "167132/167132 [==============================] - 1159s 7ms/step - loss: 1.0885 - acc: 0.3879\n",
      "Epoch 5/20\n",
      "167132/167132 [==============================] - 1160s 7ms/step - loss: 1.0885 - acc: 0.3882\n",
      "Epoch 6/20\n",
      "167132/167132 [==============================] - 1156s 7ms/step - loss: 1.0885 - acc: 0.3879\n",
      "Epoch 7/20\n",
      "167132/167132 [==============================] - 1157s 7ms/step - loss: 1.0885 - acc: 0.3879\n",
      "Epoch 8/20\n",
      " 90917/167132 [===============>..............] - ETA: 8:50 - loss: 1.0898 - acc: 0.383"
     ]
    },
    {
     "ename": "KeyboardInterrupt",
     "evalue": "",
     "output_type": "error",
     "traceback": [
      "\u001b[1;31m---------------------------------------------------------------------------\u001b[0m",
      "\u001b[1;31mKeyboardInterrupt\u001b[0m                         Traceback (most recent call last)",
      "\u001b[1;32m<ipython-input-212-2db4f621058c>\u001b[0m in \u001b[0;36m<module>\u001b[1;34m\u001b[0m\n\u001b[0;32m      1\u001b[0m \u001b[0mtf\u001b[0m\u001b[1;33m.\u001b[0m\u001b[0mkeras\u001b[0m\u001b[1;33m.\u001b[0m\u001b[0mbackend\u001b[0m\u001b[1;33m.\u001b[0m\u001b[0mset_value\u001b[0m\u001b[1;33m(\u001b[0m\u001b[0msimple_2l_model\u001b[0m\u001b[1;33m.\u001b[0m\u001b[0moptimizer\u001b[0m\u001b[1;33m.\u001b[0m\u001b[0mlr\u001b[0m\u001b[1;33m,\u001b[0m \u001b[1;36m0.00001\u001b[0m\u001b[1;33m)\u001b[0m\u001b[1;33m\u001b[0m\u001b[1;33m\u001b[0m\u001b[0m\n\u001b[1;32m----> 2\u001b[1;33m \u001b[0msimple_2l_model\u001b[0m\u001b[1;33m.\u001b[0m\u001b[0mfit\u001b[0m\u001b[1;33m(\u001b[0m\u001b[0mtrain_dataset_batched\u001b[0m\u001b[1;33m,\u001b[0m \u001b[0msteps_per_epoch\u001b[0m\u001b[1;33m=\u001b[0m\u001b[0mtrain_size\u001b[0m \u001b[1;33m//\u001b[0m \u001b[0mbatch_size\u001b[0m\u001b[1;33m,\u001b[0m \u001b[0mepochs\u001b[0m\u001b[1;33m=\u001b[0m\u001b[1;36m20\u001b[0m\u001b[1;33m)\u001b[0m\u001b[1;33m\u001b[0m\u001b[1;33m\u001b[0m\u001b[0m\n\u001b[0m",
      "\u001b[1;32mc:\\users\\paul\\appdata\\local\\programs\\python\\python37\\lib\\site-packages\\tensorflow\\python\\keras\\engine\\training.py\u001b[0m in \u001b[0;36mfit\u001b[1;34m(self, x, y, batch_size, epochs, verbose, callbacks, validation_split, validation_data, shuffle, class_weight, sample_weight, initial_epoch, steps_per_epoch, validation_steps, max_queue_size, workers, use_multiprocessing, **kwargs)\u001b[0m\n\u001b[0;32m    849\u001b[0m           \u001b[0mvalidation_steps\u001b[0m\u001b[1;33m=\u001b[0m\u001b[0mvalidation_steps\u001b[0m\u001b[1;33m,\u001b[0m\u001b[1;33m\u001b[0m\u001b[1;33m\u001b[0m\u001b[0m\n\u001b[0;32m    850\u001b[0m           \u001b[0mworkers\u001b[0m\u001b[1;33m=\u001b[0m\u001b[1;36m0\u001b[0m\u001b[1;33m,\u001b[0m\u001b[1;33m\u001b[0m\u001b[1;33m\u001b[0m\u001b[0m\n\u001b[1;32m--> 851\u001b[1;33m           initial_epoch=initial_epoch)\n\u001b[0m\u001b[0;32m    852\u001b[0m     elif distributed_training_utils.is_tpu_strategy(\n\u001b[0;32m    853\u001b[0m         self._distribution_strategy):\n",
      "\u001b[1;32mc:\\users\\paul\\appdata\\local\\programs\\python\\python37\\lib\\site-packages\\tensorflow\\python\\keras\\engine\\training_generator.py\u001b[0m in \u001b[0;36mmodel_iteration\u001b[1;34m(model, data, steps_per_epoch, epochs, verbose, callbacks, validation_data, validation_steps, class_weight, max_queue_size, workers, use_multiprocessing, shuffle, initial_epoch, mode, batch_size, **kwargs)\u001b[0m\n\u001b[0;32m    201\u001b[0m       \u001b[0mbatch_logs\u001b[0m\u001b[1;33m.\u001b[0m\u001b[0mupdate\u001b[0m\u001b[1;33m(\u001b[0m\u001b[0mtraining_utils\u001b[0m\u001b[1;33m.\u001b[0m\u001b[0mmake_logs\u001b[0m\u001b[1;33m(\u001b[0m\u001b[0mmodel\u001b[0m\u001b[1;33m,\u001b[0m \u001b[0mbatch_outs\u001b[0m\u001b[1;33m,\u001b[0m \u001b[0mmode\u001b[0m\u001b[1;33m)\u001b[0m\u001b[1;33m)\u001b[0m\u001b[1;33m\u001b[0m\u001b[1;33m\u001b[0m\u001b[0m\n\u001b[0;32m    202\u001b[0m       \u001b[0mcallbacks\u001b[0m\u001b[1;33m.\u001b[0m\u001b[0m_call_batch_hook\u001b[0m\u001b[1;33m(\u001b[0m\u001b[0mmode\u001b[0m\u001b[1;33m,\u001b[0m \u001b[1;34m'end'\u001b[0m\u001b[1;33m,\u001b[0m \u001b[0mstep\u001b[0m\u001b[1;33m,\u001b[0m \u001b[0mbatch_logs\u001b[0m\u001b[1;33m)\u001b[0m\u001b[1;33m\u001b[0m\u001b[1;33m\u001b[0m\u001b[0m\n\u001b[1;32m--> 203\u001b[1;33m       \u001b[0mprogbar\u001b[0m\u001b[1;33m.\u001b[0m\u001b[0mon_batch_end\u001b[0m\u001b[1;33m(\u001b[0m\u001b[0mstep\u001b[0m\u001b[1;33m,\u001b[0m \u001b[0mbatch_logs\u001b[0m\u001b[1;33m)\u001b[0m\u001b[1;33m\u001b[0m\u001b[1;33m\u001b[0m\u001b[0m\n\u001b[0m\u001b[0;32m    204\u001b[0m \u001b[1;33m\u001b[0m\u001b[0m\n\u001b[0;32m    205\u001b[0m       \u001b[1;32mif\u001b[0m \u001b[0mcallbacks\u001b[0m\u001b[1;33m.\u001b[0m\u001b[0mmodel\u001b[0m\u001b[1;33m.\u001b[0m\u001b[0mstop_training\u001b[0m\u001b[1;33m:\u001b[0m\u001b[1;33m\u001b[0m\u001b[1;33m\u001b[0m\u001b[0m\n",
      "\u001b[1;32mc:\\users\\paul\\appdata\\local\\programs\\python\\python37\\lib\\site-packages\\tensorflow\\python\\keras\\callbacks.py\u001b[0m in \u001b[0;36mon_batch_end\u001b[1;34m(self, batch, logs)\u001b[0m\n\u001b[0;32m    490\u001b[0m     \u001b[1;31m# will be handled by on_epoch_end.\u001b[0m\u001b[1;33m\u001b[0m\u001b[1;33m\u001b[0m\u001b[1;33m\u001b[0m\u001b[0m\n\u001b[0;32m    491\u001b[0m     \u001b[1;32mif\u001b[0m \u001b[0mself\u001b[0m\u001b[1;33m.\u001b[0m\u001b[0mverbose\u001b[0m \u001b[1;32mand\u001b[0m \u001b[0mself\u001b[0m\u001b[1;33m.\u001b[0m\u001b[0mseen\u001b[0m \u001b[1;33m<\u001b[0m \u001b[0mself\u001b[0m\u001b[1;33m.\u001b[0m\u001b[0mtarget\u001b[0m\u001b[1;33m:\u001b[0m\u001b[1;33m\u001b[0m\u001b[1;33m\u001b[0m\u001b[0m\n\u001b[1;32m--> 492\u001b[1;33m       \u001b[0mself\u001b[0m\u001b[1;33m.\u001b[0m\u001b[0mprogbar\u001b[0m\u001b[1;33m.\u001b[0m\u001b[0mupdate\u001b[0m\u001b[1;33m(\u001b[0m\u001b[0mself\u001b[0m\u001b[1;33m.\u001b[0m\u001b[0mseen\u001b[0m\u001b[1;33m,\u001b[0m \u001b[0mself\u001b[0m\u001b[1;33m.\u001b[0m\u001b[0mlog_values\u001b[0m\u001b[1;33m)\u001b[0m\u001b[1;33m\u001b[0m\u001b[1;33m\u001b[0m\u001b[0m\n\u001b[0m\u001b[0;32m    493\u001b[0m \u001b[1;33m\u001b[0m\u001b[0m\n\u001b[0;32m    494\u001b[0m   \u001b[1;32mdef\u001b[0m \u001b[0mon_epoch_end\u001b[0m\u001b[1;33m(\u001b[0m\u001b[0mself\u001b[0m\u001b[1;33m,\u001b[0m \u001b[0mepoch\u001b[0m\u001b[1;33m,\u001b[0m \u001b[0mlogs\u001b[0m\u001b[1;33m=\u001b[0m\u001b[1;32mNone\u001b[0m\u001b[1;33m)\u001b[0m\u001b[1;33m:\u001b[0m\u001b[1;33m\u001b[0m\u001b[1;33m\u001b[0m\u001b[0m\n",
      "\u001b[1;32mc:\\users\\paul\\appdata\\local\\programs\\python\\python37\\lib\\site-packages\\tensorflow\\python\\keras\\utils\\generic_utils.py\u001b[0m in \u001b[0;36mupdate\u001b[1;34m(self, current, values)\u001b[0m\n\u001b[0;32m    386\u001b[0m       \u001b[0mprev_total_width\u001b[0m \u001b[1;33m=\u001b[0m \u001b[0mself\u001b[0m\u001b[1;33m.\u001b[0m\u001b[0m_total_width\u001b[0m\u001b[1;33m\u001b[0m\u001b[1;33m\u001b[0m\u001b[0m\n\u001b[0;32m    387\u001b[0m       \u001b[1;32mif\u001b[0m \u001b[0mself\u001b[0m\u001b[1;33m.\u001b[0m\u001b[0m_dynamic_display\u001b[0m\u001b[1;33m:\u001b[0m\u001b[1;33m\u001b[0m\u001b[1;33m\u001b[0m\u001b[0m\n\u001b[1;32m--> 388\u001b[1;33m         \u001b[0msys\u001b[0m\u001b[1;33m.\u001b[0m\u001b[0mstdout\u001b[0m\u001b[1;33m.\u001b[0m\u001b[0mwrite\u001b[0m\u001b[1;33m(\u001b[0m\u001b[1;34m'\\b'\u001b[0m \u001b[1;33m*\u001b[0m \u001b[0mprev_total_width\u001b[0m\u001b[1;33m)\u001b[0m\u001b[1;33m\u001b[0m\u001b[1;33m\u001b[0m\u001b[0m\n\u001b[0m\u001b[0;32m    389\u001b[0m         \u001b[0msys\u001b[0m\u001b[1;33m.\u001b[0m\u001b[0mstdout\u001b[0m\u001b[1;33m.\u001b[0m\u001b[0mwrite\u001b[0m\u001b[1;33m(\u001b[0m\u001b[1;34m'\\r'\u001b[0m\u001b[1;33m)\u001b[0m\u001b[1;33m\u001b[0m\u001b[1;33m\u001b[0m\u001b[0m\n\u001b[0;32m    390\u001b[0m       \u001b[1;32melse\u001b[0m\u001b[1;33m:\u001b[0m\u001b[1;33m\u001b[0m\u001b[1;33m\u001b[0m\u001b[0m\n",
      "\u001b[1;32mc:\\users\\paul\\appdata\\local\\programs\\python\\python37\\lib\\site-packages\\ipykernel\\iostream.py\u001b[0m in \u001b[0;36mwrite\u001b[1;34m(self, string)\u001b[0m\n\u001b[0;32m    398\u001b[0m             \u001b[0mis_child\u001b[0m \u001b[1;33m=\u001b[0m \u001b[1;33m(\u001b[0m\u001b[1;32mnot\u001b[0m \u001b[0mself\u001b[0m\u001b[1;33m.\u001b[0m\u001b[0m_is_master_process\u001b[0m\u001b[1;33m(\u001b[0m\u001b[1;33m)\u001b[0m\u001b[1;33m)\u001b[0m\u001b[1;33m\u001b[0m\u001b[1;33m\u001b[0m\u001b[0m\n\u001b[0;32m    399\u001b[0m             \u001b[1;31m# only touch the buffer in the IO thread to avoid races\u001b[0m\u001b[1;33m\u001b[0m\u001b[1;33m\u001b[0m\u001b[1;33m\u001b[0m\u001b[0m\n\u001b[1;32m--> 400\u001b[1;33m             \u001b[0mself\u001b[0m\u001b[1;33m.\u001b[0m\u001b[0mpub_thread\u001b[0m\u001b[1;33m.\u001b[0m\u001b[0mschedule\u001b[0m\u001b[1;33m(\u001b[0m\u001b[1;32mlambda\u001b[0m \u001b[1;33m:\u001b[0m \u001b[0mself\u001b[0m\u001b[1;33m.\u001b[0m\u001b[0m_buffer\u001b[0m\u001b[1;33m.\u001b[0m\u001b[0mwrite\u001b[0m\u001b[1;33m(\u001b[0m\u001b[0mstring\u001b[0m\u001b[1;33m)\u001b[0m\u001b[1;33m)\u001b[0m\u001b[1;33m\u001b[0m\u001b[1;33m\u001b[0m\u001b[0m\n\u001b[0m\u001b[0;32m    401\u001b[0m             \u001b[1;32mif\u001b[0m \u001b[0mis_child\u001b[0m\u001b[1;33m:\u001b[0m\u001b[1;33m\u001b[0m\u001b[1;33m\u001b[0m\u001b[0m\n\u001b[0;32m    402\u001b[0m                 \u001b[1;31m# newlines imply flush in subprocesses\u001b[0m\u001b[1;33m\u001b[0m\u001b[1;33m\u001b[0m\u001b[1;33m\u001b[0m\u001b[0m\n",
      "\u001b[1;32mc:\\users\\paul\\appdata\\local\\programs\\python\\python37\\lib\\site-packages\\ipykernel\\iostream.py\u001b[0m in \u001b[0;36mschedule\u001b[1;34m(self, f)\u001b[0m\n\u001b[0;32m    201\u001b[0m             \u001b[0mself\u001b[0m\u001b[1;33m.\u001b[0m\u001b[0m_events\u001b[0m\u001b[1;33m.\u001b[0m\u001b[0mappend\u001b[0m\u001b[1;33m(\u001b[0m\u001b[0mf\u001b[0m\u001b[1;33m)\u001b[0m\u001b[1;33m\u001b[0m\u001b[1;33m\u001b[0m\u001b[0m\n\u001b[0;32m    202\u001b[0m             \u001b[1;31m# wake event thread (message content is ignored)\u001b[0m\u001b[1;33m\u001b[0m\u001b[1;33m\u001b[0m\u001b[1;33m\u001b[0m\u001b[0m\n\u001b[1;32m--> 203\u001b[1;33m             \u001b[0mself\u001b[0m\u001b[1;33m.\u001b[0m\u001b[0m_event_pipe\u001b[0m\u001b[1;33m.\u001b[0m\u001b[0msend\u001b[0m\u001b[1;33m(\u001b[0m\u001b[1;34mb''\u001b[0m\u001b[1;33m)\u001b[0m\u001b[1;33m\u001b[0m\u001b[1;33m\u001b[0m\u001b[0m\n\u001b[0m\u001b[0;32m    204\u001b[0m         \u001b[1;32melse\u001b[0m\u001b[1;33m:\u001b[0m\u001b[1;33m\u001b[0m\u001b[1;33m\u001b[0m\u001b[0m\n\u001b[0;32m    205\u001b[0m             \u001b[0mf\u001b[0m\u001b[1;33m(\u001b[0m\u001b[1;33m)\u001b[0m\u001b[1;33m\u001b[0m\u001b[1;33m\u001b[0m\u001b[0m\n",
      "\u001b[1;32mc:\\users\\paul\\appdata\\local\\programs\\python\\python37\\lib\\site-packages\\zmq\\sugar\\socket.py\u001b[0m in \u001b[0;36msend\u001b[1;34m(self, data, flags, copy, track, routing_id, group)\u001b[0m\n\u001b[0;32m    393\u001b[0m                                  copy_threshold=self.copy_threshold)\n\u001b[0;32m    394\u001b[0m             \u001b[0mdata\u001b[0m\u001b[1;33m.\u001b[0m\u001b[0mgroup\u001b[0m \u001b[1;33m=\u001b[0m \u001b[0mgroup\u001b[0m\u001b[1;33m\u001b[0m\u001b[1;33m\u001b[0m\u001b[0m\n\u001b[1;32m--> 395\u001b[1;33m         \u001b[1;32mreturn\u001b[0m \u001b[0msuper\u001b[0m\u001b[1;33m(\u001b[0m\u001b[0mSocket\u001b[0m\u001b[1;33m,\u001b[0m \u001b[0mself\u001b[0m\u001b[1;33m)\u001b[0m\u001b[1;33m.\u001b[0m\u001b[0msend\u001b[0m\u001b[1;33m(\u001b[0m\u001b[0mdata\u001b[0m\u001b[1;33m,\u001b[0m \u001b[0mflags\u001b[0m\u001b[1;33m=\u001b[0m\u001b[0mflags\u001b[0m\u001b[1;33m,\u001b[0m \u001b[0mcopy\u001b[0m\u001b[1;33m=\u001b[0m\u001b[0mcopy\u001b[0m\u001b[1;33m,\u001b[0m \u001b[0mtrack\u001b[0m\u001b[1;33m=\u001b[0m\u001b[0mtrack\u001b[0m\u001b[1;33m)\u001b[0m\u001b[1;33m\u001b[0m\u001b[1;33m\u001b[0m\u001b[0m\n\u001b[0m\u001b[0;32m    396\u001b[0m \u001b[1;33m\u001b[0m\u001b[0m\n\u001b[0;32m    397\u001b[0m     \u001b[1;32mdef\u001b[0m \u001b[0msend_multipart\u001b[0m\u001b[1;33m(\u001b[0m\u001b[0mself\u001b[0m\u001b[1;33m,\u001b[0m \u001b[0mmsg_parts\u001b[0m\u001b[1;33m,\u001b[0m \u001b[0mflags\u001b[0m\u001b[1;33m=\u001b[0m\u001b[1;36m0\u001b[0m\u001b[1;33m,\u001b[0m \u001b[0mcopy\u001b[0m\u001b[1;33m=\u001b[0m\u001b[1;32mTrue\u001b[0m\u001b[1;33m,\u001b[0m \u001b[0mtrack\u001b[0m\u001b[1;33m=\u001b[0m\u001b[1;32mFalse\u001b[0m\u001b[1;33m,\u001b[0m \u001b[1;33m**\u001b[0m\u001b[0mkwargs\u001b[0m\u001b[1;33m)\u001b[0m\u001b[1;33m:\u001b[0m\u001b[1;33m\u001b[0m\u001b[1;33m\u001b[0m\u001b[0m\n",
      "\u001b[1;32mzmq\\backend\\cython\\socket.pyx\u001b[0m in \u001b[0;36mzmq.backend.cython.socket.Socket.send\u001b[1;34m()\u001b[0m\n",
      "\u001b[1;32mzmq\\backend\\cython\\socket.pyx\u001b[0m in \u001b[0;36mzmq.backend.cython.socket.Socket.send\u001b[1;34m()\u001b[0m\n",
      "\u001b[1;32mzmq\\backend\\cython\\socket.pyx\u001b[0m in \u001b[0;36mzmq.backend.cython.socket._send_copy\u001b[1;34m()\u001b[0m\n",
      "\u001b[1;32mc:\\users\\paul\\appdata\\local\\programs\\python\\python37\\lib\\site-packages\\zmq\\backend\\cython\\checkrc.pxd\u001b[0m in \u001b[0;36mzmq.backend.cython.checkrc._check_rc\u001b[1;34m()\u001b[0m\n",
      "\u001b[1;31mKeyboardInterrupt\u001b[0m: "
     ]
    }
   ],
   "source": [
    "tf.keras.backend.set_value(simple_2l_model.optimizer.lr, 0.00001)\n",
    "simple_2l_model.fit(train_dataset_batched, steps_per_epoch=train_size // batch_size, epochs=20)"
   ]
  },
  {
   "cell_type": "code",
   "execution_count": 174,
   "metadata": {
    "scrolled": true
   },
   "outputs": [
    {
     "name": "stdout",
     "output_type": "stream",
     "text": [
      "2000/2000 [==============================] - 8s 4ms/step - loss: 1.0927 - acc: 0.3844\n"
     ]
    },
    {
     "data": {
      "text/plain": [
       "[1.0927284483015538, 0.384404]"
      ]
     },
     "execution_count": 174,
     "metadata": {},
     "output_type": "execute_result"
    }
   ],
   "source": [
    "simple_2l_model.evaluate(dev_dataset.batch(batch_size), steps=dev_size//batch_size)"
   ]
  },
  {
   "cell_type": "code",
   "execution_count": 213,
   "metadata": {
    "scrolled": true
   },
   "outputs": [
    {
     "ename": "RuntimeError",
     "evalue": "Unable to create link (name already exists)",
     "output_type": "error",
     "traceback": [
      "\u001b[1;31m---------------------------------------------------------------------------\u001b[0m",
      "\u001b[1;31mRuntimeError\u001b[0m                              Traceback (most recent call last)",
      "\u001b[1;32m<ipython-input-213-8bb6189062a7>\u001b[0m in \u001b[0;36m<module>\u001b[1;34m\u001b[0m\n\u001b[1;32m----> 1\u001b[1;33m \u001b[0msimple_2l_model\u001b[0m\u001b[1;33m.\u001b[0m\u001b[0msave\u001b[0m\u001b[1;33m(\u001b[0m\u001b[1;34m\"simple_2l_model_b1_acc38_full.hdf5\"\u001b[0m\u001b[1;33m)\u001b[0m\u001b[1;33m\u001b[0m\u001b[1;33m\u001b[0m\u001b[0m\n\u001b[0m\u001b[0;32m      2\u001b[0m \u001b[0msimple_2l_model\u001b[0m\u001b[1;33m.\u001b[0m\u001b[0msave_weights\u001b[0m\u001b[1;33m(\u001b[0m\u001b[1;34m\"simple_2l_model_b1_acc38.h5\"\u001b[0m\u001b[1;33m)\u001b[0m\u001b[1;33m\u001b[0m\u001b[1;33m\u001b[0m\u001b[0m\n",
      "\u001b[1;32mc:\\users\\paul\\appdata\\local\\programs\\python\\python37\\lib\\site-packages\\tensorflow\\python\\keras\\engine\\sequential.py\u001b[0m in \u001b[0;36msave\u001b[1;34m(self, filepath, overwrite, include_optimizer)\u001b[0m\n\u001b[0;32m    317\u001b[0m   \u001b[1;32mdef\u001b[0m \u001b[0msave\u001b[0m\u001b[1;33m(\u001b[0m\u001b[0mself\u001b[0m\u001b[1;33m,\u001b[0m \u001b[0mfilepath\u001b[0m\u001b[1;33m,\u001b[0m \u001b[0moverwrite\u001b[0m\u001b[1;33m=\u001b[0m\u001b[1;32mTrue\u001b[0m\u001b[1;33m,\u001b[0m \u001b[0minclude_optimizer\u001b[0m\u001b[1;33m=\u001b[0m\u001b[1;32mTrue\u001b[0m\u001b[1;33m)\u001b[0m\u001b[1;33m:\u001b[0m\u001b[1;33m\u001b[0m\u001b[1;33m\u001b[0m\u001b[0m\n\u001b[0;32m    318\u001b[0m     \u001b[1;32mfrom\u001b[0m \u001b[0mtensorflow\u001b[0m\u001b[1;33m.\u001b[0m\u001b[0mpython\u001b[0m\u001b[1;33m.\u001b[0m\u001b[0mkeras\u001b[0m\u001b[1;33m.\u001b[0m\u001b[0mmodels\u001b[0m \u001b[1;32mimport\u001b[0m \u001b[0msave_model\u001b[0m  \u001b[1;31m# pylint: disable=g-import-not-at-top\u001b[0m\u001b[1;33m\u001b[0m\u001b[1;33m\u001b[0m\u001b[0m\n\u001b[1;32m--> 319\u001b[1;33m     \u001b[0msave_model\u001b[0m\u001b[1;33m(\u001b[0m\u001b[0mself\u001b[0m\u001b[1;33m,\u001b[0m \u001b[0mfilepath\u001b[0m\u001b[1;33m,\u001b[0m \u001b[0moverwrite\u001b[0m\u001b[1;33m,\u001b[0m \u001b[0minclude_optimizer\u001b[0m\u001b[1;33m)\u001b[0m\u001b[1;33m\u001b[0m\u001b[1;33m\u001b[0m\u001b[0m\n\u001b[0m\u001b[0;32m    320\u001b[0m \u001b[1;33m\u001b[0m\u001b[0m\n\u001b[0;32m    321\u001b[0m   \u001b[1;32mdef\u001b[0m \u001b[0mget_config\u001b[0m\u001b[1;33m(\u001b[0m\u001b[0mself\u001b[0m\u001b[1;33m)\u001b[0m\u001b[1;33m:\u001b[0m\u001b[1;33m\u001b[0m\u001b[1;33m\u001b[0m\u001b[0m\n",
      "\u001b[1;32mc:\\users\\paul\\appdata\\local\\programs\\python\\python37\\lib\\site-packages\\tensorflow\\python\\keras\\engine\\saving.py\u001b[0m in \u001b[0;36msave_model\u001b[1;34m(model, filepath, overwrite, include_optimizer)\u001b[0m\n\u001b[0;32m    150\u001b[0m           \u001b[1;32mfor\u001b[0m \u001b[0mname\u001b[0m\u001b[1;33m,\u001b[0m \u001b[0mval\u001b[0m \u001b[1;32min\u001b[0m \u001b[0mzip\u001b[0m\u001b[1;33m(\u001b[0m\u001b[0mweight_names\u001b[0m\u001b[1;33m,\u001b[0m \u001b[0mweight_values\u001b[0m\u001b[1;33m)\u001b[0m\u001b[1;33m:\u001b[0m\u001b[1;33m\u001b[0m\u001b[1;33m\u001b[0m\u001b[0m\n\u001b[0;32m    151\u001b[0m             param_dset = optimizer_weights_group.create_dataset(\n\u001b[1;32m--> 152\u001b[1;33m                 name, val.shape, dtype=val.dtype)\n\u001b[0m\u001b[0;32m    153\u001b[0m             \u001b[1;32mif\u001b[0m \u001b[1;32mnot\u001b[0m \u001b[0mval\u001b[0m\u001b[1;33m.\u001b[0m\u001b[0mshape\u001b[0m\u001b[1;33m:\u001b[0m\u001b[1;33m\u001b[0m\u001b[1;33m\u001b[0m\u001b[0m\n\u001b[0;32m    154\u001b[0m               \u001b[1;31m# scalar\u001b[0m\u001b[1;33m\u001b[0m\u001b[1;33m\u001b[0m\u001b[1;33m\u001b[0m\u001b[0m\n",
      "\u001b[1;32mc:\\users\\paul\\appdata\\local\\programs\\python\\python37\\lib\\site-packages\\h5py\\_hl\\group.py\u001b[0m in \u001b[0;36mcreate_dataset\u001b[1;34m(self, name, shape, dtype, data, **kwds)\u001b[0m\n\u001b[0;32m    137\u001b[0m             \u001b[0mdset\u001b[0m \u001b[1;33m=\u001b[0m \u001b[0mdataset\u001b[0m\u001b[1;33m.\u001b[0m\u001b[0mDataset\u001b[0m\u001b[1;33m(\u001b[0m\u001b[0mdsid\u001b[0m\u001b[1;33m)\u001b[0m\u001b[1;33m\u001b[0m\u001b[1;33m\u001b[0m\u001b[0m\n\u001b[0;32m    138\u001b[0m             \u001b[1;32mif\u001b[0m \u001b[0mname\u001b[0m \u001b[1;32mis\u001b[0m \u001b[1;32mnot\u001b[0m \u001b[1;32mNone\u001b[0m\u001b[1;33m:\u001b[0m\u001b[1;33m\u001b[0m\u001b[1;33m\u001b[0m\u001b[0m\n\u001b[1;32m--> 139\u001b[1;33m                 \u001b[0mself\u001b[0m\u001b[1;33m[\u001b[0m\u001b[0mname\u001b[0m\u001b[1;33m]\u001b[0m \u001b[1;33m=\u001b[0m \u001b[0mdset\u001b[0m\u001b[1;33m\u001b[0m\u001b[1;33m\u001b[0m\u001b[0m\n\u001b[0m\u001b[0;32m    140\u001b[0m             \u001b[1;32mreturn\u001b[0m \u001b[0mdset\u001b[0m\u001b[1;33m\u001b[0m\u001b[1;33m\u001b[0m\u001b[0m\n\u001b[0;32m    141\u001b[0m \u001b[1;33m\u001b[0m\u001b[0m\n",
      "\u001b[1;32mc:\\users\\paul\\appdata\\local\\programs\\python\\python37\\lib\\site-packages\\h5py\\_hl\\group.py\u001b[0m in \u001b[0;36m__setitem__\u001b[1;34m(self, name, obj)\u001b[0m\n\u001b[0;32m    369\u001b[0m \u001b[1;33m\u001b[0m\u001b[0m\n\u001b[0;32m    370\u001b[0m             \u001b[1;32mif\u001b[0m \u001b[0misinstance\u001b[0m\u001b[1;33m(\u001b[0m\u001b[0mobj\u001b[0m\u001b[1;33m,\u001b[0m \u001b[0mHLObject\u001b[0m\u001b[1;33m)\u001b[0m\u001b[1;33m:\u001b[0m\u001b[1;33m\u001b[0m\u001b[1;33m\u001b[0m\u001b[0m\n\u001b[1;32m--> 371\u001b[1;33m                 \u001b[0mh5o\u001b[0m\u001b[1;33m.\u001b[0m\u001b[0mlink\u001b[0m\u001b[1;33m(\u001b[0m\u001b[0mobj\u001b[0m\u001b[1;33m.\u001b[0m\u001b[0mid\u001b[0m\u001b[1;33m,\u001b[0m \u001b[0mself\u001b[0m\u001b[1;33m.\u001b[0m\u001b[0mid\u001b[0m\u001b[1;33m,\u001b[0m \u001b[0mname\u001b[0m\u001b[1;33m,\u001b[0m \u001b[0mlcpl\u001b[0m\u001b[1;33m=\u001b[0m\u001b[0mlcpl\u001b[0m\u001b[1;33m,\u001b[0m \u001b[0mlapl\u001b[0m\u001b[1;33m=\u001b[0m\u001b[0mself\u001b[0m\u001b[1;33m.\u001b[0m\u001b[0m_lapl\u001b[0m\u001b[1;33m)\u001b[0m\u001b[1;33m\u001b[0m\u001b[1;33m\u001b[0m\u001b[0m\n\u001b[0m\u001b[0;32m    372\u001b[0m \u001b[1;33m\u001b[0m\u001b[0m\n\u001b[0;32m    373\u001b[0m             \u001b[1;32melif\u001b[0m \u001b[0misinstance\u001b[0m\u001b[1;33m(\u001b[0m\u001b[0mobj\u001b[0m\u001b[1;33m,\u001b[0m \u001b[0mSoftLink\u001b[0m\u001b[1;33m)\u001b[0m\u001b[1;33m:\u001b[0m\u001b[1;33m\u001b[0m\u001b[1;33m\u001b[0m\u001b[0m\n",
      "\u001b[1;32mh5py\\_objects.pyx\u001b[0m in \u001b[0;36mh5py._objects.with_phil.wrapper\u001b[1;34m()\u001b[0m\n",
      "\u001b[1;32mh5py\\_objects.pyx\u001b[0m in \u001b[0;36mh5py._objects.with_phil.wrapper\u001b[1;34m()\u001b[0m\n",
      "\u001b[1;32mh5py\\h5o.pyx\u001b[0m in \u001b[0;36mh5py.h5o.link\u001b[1;34m()\u001b[0m\n",
      "\u001b[1;31mRuntimeError\u001b[0m: Unable to create link (name already exists)"
     ]
    }
   ],
   "source": [
    "simple_2l_model.save(\"simple_2l_model_b1_acc38_full.hdf5\")\n",
    "simple_2l_model.save_weights(\"simple_2l_model_b1_acc38.h5\")"
   ]
  },
  {
   "cell_type": "code",
   "execution_count": 180,
   "metadata": {},
   "outputs": [],
   "source": [
    "simple_2l_model_test = build_simple_2_layer_model(10,6, 1, stateful=True)\n",
    "simple_2l_model_test.load_weights(\"simple_2l_model_b1_acc38.h5\")"
   ]
  },
  {
   "cell_type": "code",
   "execution_count": 3,
   "metadata": {},
   "outputs": [],
   "source": [
    "def make_input_vector(opponent_move=None, model_move=None):\n",
    "    if opponent_move is None and model_move is None:\n",
    "        return np.zeros((1,1,6)).astype(np.float32)\n",
    "    elif opponent_move is None or model_move is None:\n",
    "        raise ValueError\n",
    "    move_ids = {\"r\": [1,0,0], \"p\": [0,1,0], \"s\": [0,0,1]}\n",
    "    return np.array([[move_ids[opponent_move] + move_ids[model_move]]]).astype(np.float32)"
   ]
  },
  {
   "cell_type": "code",
   "execution_count": 208,
   "metadata": {
    "scrolled": true
   },
   "outputs": [
    {
     "data": {
      "text/plain": [
       "<tf.Tensor: id=110479751, shape=(1, 1, 3), dtype=float32, numpy=array([[[0.42245346, 0.27645314, 0.3010934 ]]], dtype=float32)>"
      ]
     },
     "execution_count": 208,
     "metadata": {},
     "output_type": "execute_result"
    }
   ],
   "source": [
    "simple_2l_model_test(make_input_vector(\"p\", \"r\"))"
   ]
  },
  {
   "cell_type": "code",
   "execution_count": 211,
   "metadata": {},
   "outputs": [
    {
     "data": {
      "text/plain": [
       "293"
      ]
     },
     "execution_count": 211,
     "metadata": {},
     "output_type": "execute_result"
    }
   ],
   "source": [
    "sum(np.prod(w.shape) for w in simple_2l_model_test.get_weights())"
   ]
  },
  {
   "cell_type": "code",
   "execution_count": 125,
   "metadata": {},
   "outputs": [],
   "source": [
    "batch_size = 256\n",
    "train_dataset_batched = train_dataset.batch(batch_size, drop_remainder=True).repeat()\n",
    "simple_model = build_simple_model(10, batch_size)\n",
    "opt = tf.keras.optimizers.Adam(lr=0.001)\n",
    "simple_model.compile(opt, loss=tf.keras.losses.categorical_crossentropy,metrics = [\"accuracy\"])"
   ]
  },
  {
   "cell_type": "code",
   "execution_count": 37,
   "metadata": {},
   "outputs": [
    {
     "data": {
      "text/plain": [
       "<DatasetV1Adapter shapes: ((256, 20, 6), (256, 20, 3), (256, 20)), types: (tf.float32, tf.float32, tf.float32)>"
      ]
     },
     "execution_count": 37,
     "metadata": {},
     "output_type": "execute_result"
    }
   ],
   "source": [
    "train_dataset_batched.take(1)"
   ]
  },
  {
   "cell_type": "code",
   "execution_count": 145,
   "metadata": {},
   "outputs": [],
   "source": [
    "tf.keras.backend.set_value(simple_model.optimizer.lr, 0.0001)"
   ]
  },
  {
   "cell_type": "code",
   "execution_count": 146,
   "metadata": {},
   "outputs": [
    {
     "name": "stdout",
     "output_type": "stream",
     "text": [
      "Epoch 1/5\n",
      "652/652 [==============================] - 9s 13ms/step - loss: -2.2785 - acc: 0.3112\n",
      "Epoch 2/5\n",
      "652/652 [==============================] - 9s 14ms/step - loss: -2.2799 - acc: 0.3130\n",
      "Epoch 3/5\n",
      "652/652 [==============================] - 9s 14ms/step - loss: -2.2795 - acc: 0.3144\n",
      "Epoch 4/5\n",
      "652/652 [==============================] - 9s 14ms/step - loss: -2.2800 - acc: 0.3152\n",
      "Epoch 5/5\n",
      "652/652 [==============================] - 9s 13ms/step - loss: -2.2794 - acc: 0.3152\n"
     ]
    },
    {
     "data": {
      "text/plain": [
       "<tensorflow.python.keras.callbacks.History at 0x1abd07dd400>"
      ]
     },
     "execution_count": 146,
     "metadata": {},
     "output_type": "execute_result"
    }
   ],
   "source": [
    "simple_model.fit(train_dataset_batched, steps_per_epoch=train_size // batch_size, epochs=5)"
   ]
  },
  {
   "cell_type": "code",
   "execution_count": 144,
   "metadata": {},
   "outputs": [
    {
     "name": "stdout",
     "output_type": "stream",
     "text": [
      "7/7 [==============================] - 0s 8ms/step - loss: -2.4219 - acc: 0.2967\n"
     ]
    },
    {
     "data": {
      "text/plain": [
       "[-2.421852009637015, 0.296655]"
      ]
     },
     "execution_count": 144,
     "metadata": {},
     "output_type": "execute_result"
    }
   ],
   "source": [
    "simple_model.evaluate(dev_dataset.batch(batch_size), steps=dev_size//batch_size)"
   ]
  },
  {
   "cell_type": "code",
   "execution_count": 147,
   "metadata": {},
   "outputs": [],
   "source": [
    "simple_model.save_weights(\"simple_s10_b256_masking.h5\")"
   ]
  },
  {
   "cell_type": "code",
   "execution_count": 99,
   "metadata": {},
   "outputs": [],
   "source": [
    "ws = simple_model.get_weights()"
   ]
  },
  {
   "cell_type": "code",
   "execution_count": 218,
   "metadata": {},
   "outputs": [],
   "source": [
    "def quantize_array_8bit(arr):\n",
    "    max_val = np.max(arr)\n",
    "    min_val = np.min(arr)\n",
    "    scale_factor = (max_val - min_val) / 255\n",
    "    normalized_arr = (arr - min_val) / scale_factor\n",
    "    uint8_arr = normalized_arr.astype(np.uint8)\n",
    "    quantized_float_arr = uint8_arr.astype(np.float32) * scale_factor + min_val\n",
    "    return uint8_arr, min_val, scale_factor, quantized_float_arr"
   ]
  },
  {
   "cell_type": "code",
   "execution_count": 219,
   "metadata": {},
   "outputs": [
    {
     "data": {
      "text/plain": [
       "(array([[ 23, 255,  76],\n",
       "        [ 23,  23,  23],\n",
       "        [  0,  36, 191]], dtype=uint8),\n",
       " -10.3,\n",
       " 0.4345098039215686,\n",
       " array([[ -0.3062744, 100.5      ,  22.722748 ],\n",
       "        [ -0.3062744,  -0.3062744,  -0.3062744],\n",
       "        [-10.3      ,   5.342353 ,  72.69137  ]], dtype=float32))"
      ]
     },
     "execution_count": 219,
     "metadata": {},
     "output_type": "execute_result"
    }
   ],
   "source": [
    "quantize_array_8bit(np.array([[0.1, 100.5, 23.0], [0.0,0.0,0.0], [-10.3, 5.36, 72.891]]))"
   ]
  },
  {
   "cell_type": "code",
   "execution_count": 245,
   "metadata": {
    "scrolled": true
   },
   "outputs": [
    {
     "data": {
      "text/plain": [
       "(array([[ 23, 255,  76],\n",
       "        [ 23,  23,  23],\n",
       "        [  0,  36, 191]], dtype=uint8),\n",
       " array([[ -0.3062744, 100.5      ,  22.722748 ],\n",
       "        [ -0.3062744,  -0.3062744,  -0.3062744],\n",
       "        [-10.3      ,   5.342354 ,  72.691376 ]], dtype=float32))"
      ]
     },
     "execution_count": 245,
     "metadata": {},
     "output_type": "execute_result"
    }
   ],
   "source": [
    "quantize_array_8bit(np.array([[0.1, 100.5, 23.0], [0.0,0.0,0.0], [-10.3, 5.36, 72.891]]))"
   ]
  },
  {
   "cell_type": "code",
   "execution_count": 100,
   "metadata": {},
   "outputs": [
    {
     "data": {
      "text/plain": [
       "array([[-2.0455706 ,  1.0283102 , -0.9659117 ,  3.548289  , -1.1276885 ,\n",
       "        -1.138939  ,  2.5859563 , -0.7097592 , -0.92650974,  1.8484266 ],\n",
       "       [-5.0574603 ,  1.2583566 , -1.226542  ,  0.21674812, -3.252657  ,\n",
       "         1.1813297 , -3.2153454 , -0.57423186, -2.340138  ,  3.0763323 ],\n",
       "       [ 1.7969029 ,  2.8700786 ,  1.084077  ,  1.1550727 , -1.7931525 ,\n",
       "         3.855419  , -2.0228846 ,  0.6389722 , -2.2819788 ,  3.4723608 ],\n",
       "       [-7.084231  ,  2.6387463 , -1.3700198 ,  1.1301912 , -2.0216262 ,\n",
       "         1.9781357 ,  1.409669  ,  0.638562  , -4.234835  ,  2.4809246 ],\n",
       "       [ 2.5644126 ,  0.63514644,  0.72990674,  2.0799232 , -2.2121131 ,\n",
       "         2.115727  , -1.339455  ,  0.17723703, -0.81895775,  2.3882298 ],\n",
       "       [-1.7927575 , -0.06489968, -0.8500483 ,  1.489895  , -1.5608385 ,\n",
       "        -0.7815637 , -3.2034628 , -1.910331  , -3.7538776 ,  3.7661796 ]],\n",
       "      dtype=float32)"
      ]
     },
     "execution_count": 100,
     "metadata": {},
     "output_type": "execute_result"
    }
   ],
   "source": [
    "ws[0]"
   ]
  },
  {
   "cell_type": "code",
   "execution_count": 247,
   "metadata": {},
   "outputs": [
    {
     "data": {
      "text/plain": [
       "(array([[237, 157,  67, 155, 226,  52, 185,  92, 196,  88],\n",
       "        [130, 219, 200, 170, 110,   6, 118, 221, 255, 193],\n",
       "        [ 85,  79, 137, 170, 192, 201, 158, 156,  76, 189],\n",
       "        [140, 130, 156, 155, 184, 142, 175, 197, 196, 149],\n",
       "        [168, 137, 159, 137, 134, 178, 211, 169, 129, 136],\n",
       "        [187, 136, 131, 154, 143,   0, 162,  86, 147, 160]], dtype=uint8),\n",
       " array([[ 1.1916376 ,  0.1680547 , -0.98347616,  0.14246511,  1.0508949 ,\n",
       "         -1.1753981 ,  0.52630866, -0.6636065 ,  0.66705143, -0.7147857 ],\n",
       "        [-0.17740452,  0.9613315 ,  0.7182306 ,  0.33438694, -0.43330038,\n",
       "         -1.7639582 , -0.33094203,  0.98692095,  1.4219438 ,  0.628667  ],\n",
       "        [-0.75317   , -0.82993877, -0.08784103,  0.33438694,  0.61587226,\n",
       "          0.73102534,  0.18084943,  0.15525997, -0.8683231 ,  0.5774878 ],\n",
       "        [-0.04945672, -0.17740452,  0.15525997,  0.14246511,  0.5135139 ,\n",
       "         -0.02386713,  0.39836085,  0.67984617,  0.66705143,  0.06569636],\n",
       "        [ 0.30879724, -0.08784103,  0.19364417, -0.08784103, -0.12622535,\n",
       "          0.4367453 ,  0.85897315,  0.3215922 , -0.19019938, -0.10063577],\n",
       "        [ 0.55189836, -0.10063577, -0.16460979,  0.12967038, -0.01107228,\n",
       "         -1.840727  ,  0.2320286 , -0.7403753 ,  0.04010689,  0.20643914]],\n",
       "       dtype=float32))"
      ]
     },
     "execution_count": 247,
     "metadata": {},
     "output_type": "execute_result"
    }
   ],
   "source": [
    "quantize_array_8bit(ws[0])"
   ]
  },
  {
   "cell_type": "code",
   "execution_count": 249,
   "metadata": {},
   "outputs": [],
   "source": [
    "quantized_ws = [quantize_array_8bit(w)[1] for w in ws]"
   ]
  },
  {
   "cell_type": "code",
   "execution_count": 250,
   "metadata": {},
   "outputs": [],
   "source": [
    "simple_model.set_weights(quantized_ws)"
   ]
  },
  {
   "cell_type": "code",
   "execution_count": 252,
   "metadata": {
    "scrolled": true
   },
   "outputs": [
    {
     "name": "stdout",
     "output_type": "stream",
     "text": [
      "2000/2000 [==============================] - 6s 3ms/step - loss: 1.0929 - acc: 0.3692\n"
     ]
    },
    {
     "data": {
      "text/plain": [
       "[1.0929317570328712, 0.3692203]"
      ]
     },
     "execution_count": 252,
     "metadata": {},
     "output_type": "execute_result"
    }
   ],
   "source": [
    "simple_model.evaluate(dev_dataset.batch(batch_size), steps=dev_size//batch_size)"
   ]
  },
  {
   "cell_type": "code",
   "execution_count": 253,
   "metadata": {},
   "outputs": [],
   "source": [
    "#simple_model.save_weights(\"simple_s10_b1_acc37_quantized.h5\")"
   ]
  },
  {
   "cell_type": "code",
   "execution_count": 4,
   "metadata": {
    "scrolled": true
   },
   "outputs": [
    {
     "name": "stdout",
     "output_type": "stream",
     "text": [
      "WARNING:tensorflow:From c:\\users\\paul\\appdata\\local\\programs\\python\\python37\\lib\\site-packages\\tensorflow\\python\\ops\\tensor_array_ops.py:162: colocate_with (from tensorflow.python.framework.ops) is deprecated and will be removed in a future version.\n",
      "Instructions for updating:\n",
      "Colocations handled automatically by placer.\n"
     ]
    }
   ],
   "source": [
    "simple_model_test = build_simple_model(10, 1, stateful=True)\n",
    "simple_model_test.load_weights(\"simple_s10_b1_acc38.h5\")"
   ]
  },
  {
   "cell_type": "code",
   "execution_count": 5,
   "metadata": {},
   "outputs": [],
   "source": [
    "ws = simple_model_test.get_weights()"
   ]
  },
  {
   "cell_type": "code",
   "execution_count": 226,
   "metadata": {},
   "outputs": [],
   "source": [
    "quantized_ws = [quantize_array_8bit(w) for w in ws]"
   ]
  },
  {
   "cell_type": "code",
   "execution_count": 230,
   "metadata": {},
   "outputs": [
    {
     "data": {
      "text/plain": [
       "array([-0.02720571, -0.03758323, -0.16626628], dtype=float32)"
      ]
     },
     "execution_count": 230,
     "metadata": {},
     "output_type": "execute_result"
    }
   ],
   "source": [
    "ws[-1]"
   ]
  },
  {
   "cell_type": "code",
   "execution_count": 227,
   "metadata": {},
   "outputs": [
    {
     "data": {
      "text/plain": [
       "[(6, 10), (10, 10), (10,), (10, 3), (3,)]"
      ]
     },
     "execution_count": 227,
     "metadata": {},
     "output_type": "execute_result"
    }
   ],
   "source": [
    "[w.shape for w in ws]"
   ]
  },
  {
   "cell_type": "code",
   "execution_count": 229,
   "metadata": {},
   "outputs": [
    {
     "data": {
      "text/plain": [
       "[((6, 10),\n",
       "  array([237, 157,  67, 155, 226,  52, 185,  92, 196,  88, 130, 219, 200,\n",
       "         170, 110,   6, 118, 221, 255, 193,  85,  79, 137, 170, 192, 201,\n",
       "         158, 156,  76, 189, 140, 130, 156, 155, 184, 142, 175, 197, 196,\n",
       "         149, 168, 137, 159, 137, 134, 178, 211, 169, 129, 136, 187, 136,\n",
       "         131, 154, 143,   0, 162,  86, 147, 160], dtype=uint8),\n",
       "  -1.840727,\n",
       "  0.012794787276024911),\n",
       " ((10, 10),\n",
       "  array([215, 115, 123,  78, 141, 159, 184, 149, 154, 113, 107, 255, 224,\n",
       "         166,  54, 133, 181, 102,  50,  29, 144,  51, 120, 117, 168,  80,\n",
       "          28,  61, 140, 182, 103, 132, 206, 225,  50,  82, 186, 109,  82,\n",
       "          33,  53,  74,  36, 103, 160, 153, 126, 148, 155,  99, 109,  65,\n",
       "          70, 161,  99, 138, 105, 123, 106,  70,  89,  56,  95,  98, 108,\n",
       "          98, 112, 134, 176, 141, 138, 112, 161, 159, 117,  65, 125, 121,\n",
       "          84,  96, 205, 202, 216, 102, 118, 148, 200, 119, 182, 124, 162,\n",
       "          85, 156, 102,  64,   0,  18,  57,  34, 146], dtype=uint8),\n",
       "  -0.79503363,\n",
       "  0.00705262913423426),\n",
       " ((10,),\n",
       "  array([227,  97,  92, 105, 149,   0, 105, 217, 255, 185], dtype=uint8),\n",
       "  -0.2683249,\n",
       "  0.002377917719822304),\n",
       " ((10, 3),\n",
       "  array([255, 184,  89,  91,  68, 157, 171, 108, 135, 139, 165, 140, 163,\n",
       "          79, 221, 148, 189, 103,   0, 102,  60, 196,  98, 135, 117, 209,\n",
       "         158,   2, 100,  88], dtype=uint8),\n",
       "  -0.6662272,\n",
       "  0.005261778363994524),\n",
       " ((3,),\n",
       "  array([255, 235,   0], dtype=uint8),\n",
       "  -0.16626628,\n",
       "  0.0005453355756460451)]"
      ]
     },
     "execution_count": 229,
     "metadata": {},
     "output_type": "execute_result"
    }
   ],
   "source": [
    "[(q[0].shape, q[0].reshape(-1), q[1], q[2]) for q in quantized_ws]"
   ]
  },
  {
   "cell_type": "code",
   "execution_count": 217,
   "metadata": {},
   "outputs": [
    {
     "data": {
      "text/plain": [
       "array([ 1.1916376 ,  0.1680547 , -0.98347616,  0.14246511,  1.0508949 ,\n",
       "       -1.1753981 ,  0.52630866, -0.6636065 ,  0.66705143, -0.7147857 ,\n",
       "       -0.17740452,  0.9613315 ,  0.7182306 ,  0.33438694, -0.43330038,\n",
       "       -1.7639582 , -0.33094203,  0.98692095,  1.4219438 ,  0.628667  ,\n",
       "       -0.75317   , -0.82993877, -0.08784103,  0.33438694,  0.61587226,\n",
       "        0.73102534,  0.18084943,  0.15525997, -0.8683231 ,  0.5774878 ,\n",
       "       -0.04945672, -0.17740452,  0.15525997,  0.14246511,  0.5135139 ,\n",
       "       -0.02386713,  0.39836085,  0.67984617,  0.66705143,  0.06569636,\n",
       "        0.30879724, -0.08784103,  0.19364417, -0.08784103, -0.12622535,\n",
       "        0.4367453 ,  0.85897315,  0.3215922 , -0.19019938, -0.10063577,\n",
       "        0.55189836, -0.10063577, -0.16460979,  0.12967038, -0.01107228,\n",
       "       -1.840727  ,  0.2320286 , -0.7403753 ,  0.04010689,  0.20643914],\n",
       "      dtype=float32)"
      ]
     },
     "execution_count": 217,
     "metadata": {},
     "output_type": "execute_result"
    }
   ],
   "source": [
    "ws[0].reshape(-1)"
   ]
  },
  {
   "cell_type": "code",
   "execution_count": 150,
   "metadata": {},
   "outputs": [
    {
     "data": {
      "text/plain": [
       "<tf.Tensor: id=760446, shape=(1, 1, 3), dtype=float32, numpy=array([[[0.3685719 , 0.34509036, 0.28633767]]], dtype=float32)>"
      ]
     },
     "execution_count": 150,
     "metadata": {},
     "output_type": "execute_result"
    }
   ],
   "source": [
    "simple_model_test.reset_states()\n",
    "simple_model_test(make_input_vector())"
   ]
  },
  {
   "cell_type": "code",
   "execution_count": 153,
   "metadata": {
    "scrolled": true
   },
   "outputs": [
    {
     "data": {
      "text/plain": [
       "<tf.Tensor: id=760749, shape=(1, 1, 3), dtype=float32, numpy=array([[[1.7653186e-14, 1.0000000e+00, 5.6374139e-26]]], dtype=float32)>"
      ]
     },
     "execution_count": 153,
     "metadata": {},
     "output_type": "execute_result"
    }
   ],
   "source": [
    "simple_model_test(make_input_vector(\"r\", \"p\"))"
   ]
  },
  {
   "cell_type": "code",
   "execution_count": 10,
   "metadata": {},
   "outputs": [
    {
     "name": "stdout",
     "output_type": "stream",
     "text": [
      "r/p/s:r\n",
      "player plays r\n",
      "model plays p\n",
      "model wins! (model win / tot win = 100.00%)\n",
      "r/p/s:r\n",
      "player plays r\n",
      "model plays p\n",
      "model wins! (model win / tot win = 100.00%)\n",
      "r/p/s:p\n",
      "player plays p\n",
      "model plays p\n",
      "It's a draw!\n",
      "r/p/s:p\n",
      "player plays p\n",
      "model plays p\n",
      "It's a draw!\n",
      "r/p/s:s\n",
      "player plays s\n",
      "model plays s\n",
      "It's a draw!\n",
      "r/p/s:s\n",
      "player plays s\n",
      "model plays r\n",
      "model wins! (model win / tot win = 100.00%)\n",
      "r/p/s:r\n",
      "player plays r\n",
      "model plays r\n",
      "It's a draw!\n",
      "r/p/s:r\n",
      "player plays r\n",
      "model plays s\n",
      "Player wins! (model win / tot win = 75.00%)\n",
      "r/p/s:p\n",
      "player plays p\n",
      "model plays s\n",
      "model wins! (model win / tot win = 80.00%)\n",
      "r/p/s:p\n",
      "player plays p\n",
      "model plays r\n",
      "Player wins! (model win / tot win = 66.67%)\n",
      "r/p/s:s\n",
      "player plays s\n",
      "model plays p\n",
      "Player wins! (model win / tot win = 57.14%)\n",
      "r/p/s:s\n",
      "player plays s\n",
      "model plays p\n",
      "Player wins! (model win / tot win = 50.00%)\n",
      "r/p/s:r\n",
      "player plays r\n",
      "model plays p\n",
      "model wins! (model win / tot win = 55.56%)\n",
      "r/p/s:r\n",
      "player plays r\n",
      "model plays p\n",
      "model wins! (model win / tot win = 60.00%)\n",
      "r/p/s:p\n",
      "player plays p\n",
      "model plays p\n",
      "It's a draw!\n",
      "r/p/s:p\n",
      "player plays p\n",
      "model plays r\n",
      "Player wins! (model win / tot win = 54.55%)\n",
      "r/p/s:s\n",
      "player plays s\n",
      "model plays p\n",
      "Player wins! (model win / tot win = 50.00%)\n",
      "r/p/s:s\n",
      "player plays s\n",
      "model plays p\n",
      "Player wins! (model win / tot win = 46.15%)\n",
      "r/p/s:r\n",
      "player plays r\n",
      "model plays p\n",
      "model wins! (model win / tot win = 50.00%)\n",
      "r/p/s:r\n",
      "player plays r\n",
      "model plays p\n",
      "model wins! (model win / tot win = 53.33%)\n",
      "r/p/s:p\n",
      "player plays p\n",
      "model plays p\n",
      "It's a draw!\n",
      "r/p/s:p\n",
      "player plays p\n",
      "model plays r\n",
      "Player wins! (model win / tot win = 50.00%)\n",
      "r/p/s:s\n",
      "player plays s\n",
      "model plays p\n",
      "Player wins! (model win / tot win = 47.06%)\n",
      "r/p/s:s\n",
      "player plays s\n",
      "model plays p\n",
      "Player wins! (model win / tot win = 44.44%)\n",
      "r/p/s:r\n",
      "player plays r\n",
      "model plays p\n",
      "model wins! (model win / tot win = 47.37%)\n",
      "r/p/s:r\n",
      "player plays r\n",
      "model plays p\n",
      "model wins! (model win / tot win = 50.00%)\n",
      "r/p/s:p\n",
      "player plays p\n",
      "model plays p\n",
      "It's a draw!\n",
      "r/p/s:p\n",
      "player plays p\n",
      "model plays r\n",
      "Player wins! (model win / tot win = 47.62%)\n",
      "r/p/s:s\n",
      "player plays s\n",
      "model plays p\n",
      "Player wins! (model win / tot win = 45.45%)\n",
      "r/p/s:s\n",
      "player plays s\n",
      "model plays p\n",
      "Player wins! (model win / tot win = 43.48%)\n",
      "r/p/s:r\n",
      "player plays r\n",
      "model plays p\n",
      "model wins! (model win / tot win = 45.83%)\n",
      "r/p/s:r\n",
      "player plays r\n",
      "model plays p\n",
      "model wins! (model win / tot win = 48.00%)\n",
      "r/p/s:p\n",
      "player plays p\n",
      "model plays p\n",
      "It's a draw!\n",
      "r/p/s:p\n",
      "player plays p\n",
      "model plays r\n",
      "Player wins! (model win / tot win = 46.15%)\n",
      "r/p/s:s\n",
      "player plays s\n",
      "model plays p\n",
      "Player wins! (model win / tot win = 44.44%)\n",
      "r/p/s:s\n",
      "player plays s\n",
      "model plays p\n",
      "Player wins! (model win / tot win = 42.86%)\n",
      "r/p/s:r\n",
      "player plays r\n",
      "model plays p\n",
      "model wins! (model win / tot win = 44.83%)\n",
      "r/p/s:r\n",
      "player plays r\n",
      "model plays p\n",
      "model wins! (model win / tot win = 46.67%)\n",
      "r/p/s:p\n",
      "player plays p\n",
      "model plays p\n",
      "It's a draw!\n",
      "r/p/s:p\n",
      "player plays p\n",
      "model plays r\n",
      "Player wins! (model win / tot win = 45.16%)\n",
      "r/p/s:s\n",
      "player plays s\n",
      "model plays p\n",
      "Player wins! (model win / tot win = 43.75%)\n",
      "r/p/s:s\n",
      "player plays s\n",
      "model plays p\n",
      "Player wins! (model win / tot win = 42.42%)\n",
      "r/p/s:r\n",
      "player plays r\n",
      "model plays p\n",
      "model wins! (model win / tot win = 44.12%)\n",
      "r/p/s:r\n",
      "player plays r\n",
      "model plays p\n",
      "model wins! (model win / tot win = 45.71%)\n",
      "r/p/s:p\n",
      "player plays p\n",
      "model plays p\n",
      "It's a draw!\n",
      "r/p/s:p\n",
      "player plays p\n",
      "model plays r\n",
      "Player wins! (model win / tot win = 44.44%)\n",
      "r/p/s:s\n",
      "player plays s\n",
      "model plays p\n",
      "Player wins! (model win / tot win = 43.24%)\n",
      "r/p/s:s\n",
      "player plays s\n",
      "model plays p\n",
      "Player wins! (model win / tot win = 42.11%)\n",
      "r/p/s:r\n",
      "player plays r\n",
      "model plays p\n",
      "model wins! (model win / tot win = 43.59%)\n",
      "r/p/s:r\n",
      "player plays r\n",
      "model plays p\n",
      "model wins! (model win / tot win = 45.00%)\n",
      "r/p/s:p\n",
      "player plays p\n",
      "model plays p\n",
      "It's a draw!\n",
      "r/p/s:p\n",
      "player plays p\n",
      "model plays r\n",
      "Player wins! (model win / tot win = 43.90%)\n",
      "r/p/s:s\n",
      "player plays s\n",
      "model plays p\n",
      "Player wins! (model win / tot win = 42.86%)\n",
      "r/p/s:s\n",
      "player plays s\n",
      "model plays p\n",
      "Player wins! (model win / tot win = 41.86%)\n",
      "r/p/s:r\n",
      "player plays r\n",
      "model plays p\n",
      "model wins! (model win / tot win = 43.18%)\n",
      "r/p/s:r\n",
      "player plays r\n",
      "model plays p\n",
      "model wins! (model win / tot win = 44.44%)\n",
      "r/p/s:p\n",
      "player plays p\n",
      "model plays p\n",
      "It's a draw!\n",
      "r/p/s:p\n",
      "player plays p\n",
      "model plays r\n",
      "Player wins! (model win / tot win = 43.48%)\n",
      "r/p/s:s\n",
      "player plays s\n",
      "model plays p\n",
      "Player wins! (model win / tot win = 42.55%)\n",
      "r/p/s:s\n",
      "player plays s\n",
      "model plays p\n",
      "Player wins! (model win / tot win = 41.67%)\n",
      "r/p/s:r\n",
      "player plays r\n",
      "model plays p\n",
      "model wins! (model win / tot win = 42.86%)\n",
      "r/p/s:r\n",
      "player plays r\n",
      "model plays p\n",
      "model wins! (model win / tot win = 44.00%)\n",
      "r/p/s:p\n",
      "player plays p\n",
      "model plays p\n",
      "It's a draw!\n",
      "r/p/s:p\n",
      "player plays p\n",
      "model plays r\n",
      "Player wins! (model win / tot win = 43.14%)\n",
      "r/p/s:s\n",
      "player plays s\n",
      "model plays p\n",
      "Player wins! (model win / tot win = 42.31%)\n",
      "r/p/s:s\n",
      "player plays s\n",
      "model plays p\n",
      "Player wins! (model win / tot win = 41.51%)\n",
      "r/p/s:r\n",
      "player plays r\n",
      "model plays p\n",
      "model wins! (model win / tot win = 42.59%)\n",
      "r/p/s:r\n",
      "player plays r\n",
      "model plays p\n",
      "model wins! (model win / tot win = 43.64%)\n",
      "r/p/s:a\n"
     ]
    }
   ],
   "source": [
    "def test_model(model):\n",
    "    moves = [\"r\", \"p\", \"s\"]\n",
    "    counter_move = {\"r\": \"p\", \"p\": \"s\", \"s\": \"r\"}\n",
    "    model_wins = player_wins = 0\n",
    "    model.reset_states()\n",
    "    prediction = model(make_input_vector())\n",
    "    while True:\n",
    "        player_move = input(\"r/p/s:\")\n",
    "        if player_move not in (\"r\", \"p\", \"s\"):\n",
    "            break\n",
    "        model_move = counter_move[moves[np.argmax(prediction)]]\n",
    "        print(f\"player plays {player_move}\")\n",
    "        print(f\"model plays {model_move}\")\n",
    "        if model_move == counter_move[player_move]:\n",
    "            model_wins += 1\n",
    "            print(f\"model wins! (model win / tot win = {100*model_wins / (model_wins + player_wins) if model_wins else 0:.2f}%)\")\n",
    "        elif player_move == counter_move[model_move]:\n",
    "            player_wins += 1\n",
    "            print(f\"Player wins! (model win / tot win = {100*model_wins / (model_wins + player_wins) if model_wins else 0:.2f}%)\")\n",
    "        else:\n",
    "            print(\"It's a draw!\")\n",
    "        \n",
    "        prediction = model(make_input_vector(player_move, model_move))\n",
    "test_model(simple_model_test)"
   ]
  },
  {
   "cell_type": "code",
   "execution_count": 11,
   "metadata": {},
   "outputs": [
    {
     "name": "stdout",
     "output_type": "stream",
     "text": [
      "[(6, 10), (10, 10), (10,), (10, 3), (3,)]\n",
      "total params: 203\n"
     ]
    }
   ],
   "source": [
    "ws = simple_model_test.get_weights()\n",
    "print([w.shape for w in ws])\n",
    "print(f\"total params: {sum([np.product(w.shape) for w in ws])}\")"
   ]
  },
  {
   "cell_type": "code",
   "execution_count": 6,
   "metadata": {},
   "outputs": [],
   "source": [
    "def numpy_eval_simple_model(x, ws, state):\n",
    "    h = x@ws[0] + ws[2]\n",
    "    new_state = np.tanh(h + state@ws[1])\n",
    "    logits = new_state@ws[3] + ws[4]\n",
    "    probs = np.exp(logits) / np.sum(np.exp(logits),axis=-1)\n",
    "    return new_state, probs\n",
    "    "
   ]
  },
  {
   "cell_type": "code",
   "execution_count": 12,
   "metadata": {},
   "outputs": [
    {
     "data": {
      "text/plain": [
       "(array([[ 0.26654428, -0.03666964, -0.04910822, -0.01683108,  0.0872402 ,\n",
       "         -0.26206548, -0.01738435,  0.24364112,  0.32573011,  0.16994075]]),\n",
       " array([[0.36667296, 0.33972614, 0.2936009 ]]))"
      ]
     },
     "execution_count": 12,
     "metadata": {},
     "output_type": "execute_result"
    }
   ],
   "source": [
    "numpy_eval_simple_model(np.zeros((1,6)), ws, np.zeros(10))"
   ]
  },
  {
   "cell_type": "code",
   "execution_count": 28,
   "metadata": {},
   "outputs": [],
   "source": [
    "def numpy_eval_simple_model_like_attiny(x, ws, state, temperature=1.0):\n",
    "    int_state = state@ws[1]\n",
    "    print(\"state@ws[1]\")\n",
    "    print(int_state)\n",
    "    state, int_state = int_state, state\n",
    "    \n",
    "    int_state = x@ws[0]\n",
    "    print(\"x@ws[0]\")\n",
    "    print(int_state)\n",
    "    state = state + int_state\n",
    "    \n",
    "    state = state + ws[2]\n",
    "    print(\"state+ws[2] (state bias)\")\n",
    "    print(state)\n",
    "    state = np.tanh(state)\n",
    "    print(\"tanh(state)\")\n",
    "    print(state)\n",
    "    output = state@ws[3]\n",
    "    print(\"state@ws[3]\")\n",
    "    print(output)\n",
    "    output = output + ws[4]\n",
    "    print(\"output + ws[4]\")\n",
    "    print(output)\n",
    "    output = output * temperature\n",
    "    print(\"output * temperature\")\n",
    "    print(output)\n",
    "    probs = np.exp(output) / np.sum(np.exp(output),axis=-1)\n",
    "    return state, probs\n",
    "    "
   ]
  },
  {
   "cell_type": "code",
   "execution_count": 29,
   "metadata": {
    "scrolled": true
   },
   "outputs": [
    {
     "name": "stdout",
     "output_type": "stream",
     "text": [
      "state@ws[1]\n",
      "[[0. 0. 0. 0. 0. 0. 0. 0. 0. 0.]]\n",
      "x@ws[0]\n",
      "[[0. 0. 0. 0. 0. 0. 0. 0. 0. 0.]]\n",
      "state+ws[2] (state bias)\n",
      "[[ 0.2731401  -0.03668609 -0.04914776 -0.01683267  0.08746254 -0.26832491\n",
      "  -0.0173861   0.24864139  0.33804408  0.17160565]]\n",
      "tanh(state)\n",
      "[[ 0.26654428 -0.03666964 -0.04910822 -0.01683108  0.0872402  -0.26206548\n",
      "  -0.01738435  0.24364112  0.32573011  0.16994075]]\n",
      "state@ws[3]\n",
      "[[0.13504404 0.06909104 0.05185561]]\n",
      "output + ws[4]\n",
      "[[ 0.10783833  0.03150781 -0.11441067]]\n",
      "output * temperature\n",
      "[[ 0.10783833  0.03150781 -0.11441067]]\n"
     ]
    },
    {
     "data": {
      "text/plain": [
       "(array([[ 0.26654428, -0.03666964, -0.04910822, -0.01683108,  0.0872402 ,\n",
       "         -0.26206548, -0.01738435,  0.24364112,  0.32573011,  0.16994075]]),\n",
       " array([[0.36667296, 0.33972614, 0.2936009 ]]))"
      ]
     },
     "execution_count": 29,
     "metadata": {},
     "output_type": "execute_result"
    }
   ],
   "source": [
    "numpy_eval_simple_model_like_attiny(np.zeros((1,6)), ws, np.zeros((1,10)))"
   ]
  },
  {
   "cell_type": "code",
   "execution_count": 17,
   "metadata": {},
   "outputs": [
    {
     "data": {
      "text/plain": [
       "<tf.Tensor: id=11267, shape=(1, 1, 3), dtype=float32, numpy=array([[[0.3663328 , 0.34006503, 0.2936022 ]]], dtype=float32)>"
      ]
     },
     "execution_count": 17,
     "metadata": {},
     "output_type": "execute_result"
    }
   ],
   "source": [
    "simple_model_test.reset_states()\n",
    "simple_model_test(make_input_vector())"
   ]
  },
  {
   "cell_type": "code",
   "execution_count": 146,
   "metadata": {},
   "outputs": [],
   "source": [
    "def build_GRU_model(state_dim, batch_size, stateful=False):\n",
    "    return tf.keras.Sequential([\n",
    "        tf.keras.layers.CuDNNGRU(state_dim, batch_input_shape=[batch_size, None, 6],\n",
    "                                 return_sequences=True,  stateful=stateful),\n",
    "        tf.keras.layers.Dense(3),\n",
    "        tf.keras.layers.Softmax()\n",
    "    ])"
   ]
  },
  {
   "cell_type": "code",
   "execution_count": 152,
   "metadata": {
    "scrolled": true
   },
   "outputs": [],
   "source": [
    "batch_size = 1\n",
    "train_dataset_batched = train_dataset.batch(batch_size, drop_remainder=True).repeat()\n",
    "gru_model = build_GRU_model(10, batch_size)\n",
    "opt = tf.keras.optimizers.Adam(lr=0.01)\n",
    "gru_model.compile(opt, loss=tf.keras.losses.categorical_crossentropy,metrics = [\"accuracy\"])"
   ]
  },
  {
   "cell_type": "code",
   "execution_count": 153,
   "metadata": {},
   "outputs": [
    {
     "name": "stdout",
     "output_type": "stream",
     "text": [
      "_________________________________________________________________\n",
      "Layer (type)                 Output Shape              Param #   \n",
      "=================================================================\n",
      "cu_dnngru_7 (CuDNNGRU)       (1, None, 10)             540       \n",
      "_________________________________________________________________\n",
      "dense_12 (Dense)             (1, None, 3)              33        \n",
      "_________________________________________________________________\n",
      "softmax_12 (Softmax)         (1, None, 3)              0         \n",
      "=================================================================\n",
      "Total params: 573\n",
      "Trainable params: 573\n",
      "Non-trainable params: 0\n",
      "_________________________________________________________________\n"
     ]
    }
   ],
   "source": [
    "gru_model.summary()"
   ]
  },
  {
   "cell_type": "code",
   "execution_count": 149,
   "metadata": {},
   "outputs": [
    {
     "name": "stdout",
     "output_type": "stream",
     "text": [
      "(1, 5, 6) (1, 5, 3)\n",
      "(1, 5, 3)\n"
     ]
    }
   ],
   "source": [
    "for x,y in train_dataset_batched.take(1):\n",
    "    print(x.shape, y.shape)\n",
    "    out = gru_model(x)\n",
    "    print(out.shape)"
   ]
  },
  {
   "cell_type": "code",
   "execution_count": 150,
   "metadata": {},
   "outputs": [
    {
     "data": {
      "text/plain": [
       "<tf.Tensor: id=764222, shape=(1, 5), dtype=float32, numpy=\n",
       "array([[1.0986123 , 1.0743761 , 1.0894954 , 0.8406325 , 0.97202396]],\n",
       "      dtype=float32)>"
      ]
     },
     "execution_count": 150,
     "metadata": {},
     "output_type": "execute_result"
    }
   ],
   "source": [
    "tf.keras.losses.categorical_crossentropy(y, out)"
   ]
  },
  {
   "cell_type": "code",
   "execution_count": 184,
   "metadata": {},
   "outputs": [],
   "source": [
    "tf.keras.backend.set_value(gru_model.optimizer.lr, 0.001)"
   ]
  },
  {
   "cell_type": "code",
   "execution_count": 185,
   "metadata": {},
   "outputs": [
    {
     "name": "stdout",
     "output_type": "stream",
     "text": [
      "Epoch 1/10\n",
      " 18331/167132 [==>...........................] - ETA: 12:54 - loss: 1.0976 - acc: 0.3570"
     ]
    },
    {
     "ename": "KeyboardInterrupt",
     "evalue": "",
     "output_type": "error",
     "traceback": [
      "\u001b[1;31m---------------------------------------------------------------------------\u001b[0m",
      "\u001b[1;31mKeyboardInterrupt\u001b[0m                         Traceback (most recent call last)",
      "\u001b[1;32m<ipython-input-185-2f38d62ce4bc>\u001b[0m in \u001b[0;36m<module>\u001b[1;34m\u001b[0m\n\u001b[1;32m----> 1\u001b[1;33m \u001b[0mgru_model\u001b[0m\u001b[1;33m.\u001b[0m\u001b[0mfit\u001b[0m\u001b[1;33m(\u001b[0m\u001b[0mtrain_dataset_batched\u001b[0m\u001b[1;33m,\u001b[0m \u001b[0msteps_per_epoch\u001b[0m\u001b[1;33m=\u001b[0m\u001b[0mtrain_size\u001b[0m \u001b[1;33m//\u001b[0m \u001b[0mbatch_size\u001b[0m\u001b[1;33m,\u001b[0m \u001b[0mepochs\u001b[0m\u001b[1;33m=\u001b[0m\u001b[1;36m10\u001b[0m\u001b[1;33m)\u001b[0m\u001b[1;33m\u001b[0m\u001b[1;33m\u001b[0m\u001b[0m\n\u001b[0m",
      "\u001b[1;32mc:\\users\\paul\\appdata\\local\\programs\\python\\python37\\lib\\site-packages\\tensorflow\\python\\keras\\engine\\training.py\u001b[0m in \u001b[0;36mfit\u001b[1;34m(self, x, y, batch_size, epochs, verbose, callbacks, validation_split, validation_data, shuffle, class_weight, sample_weight, initial_epoch, steps_per_epoch, validation_steps, max_queue_size, workers, use_multiprocessing, **kwargs)\u001b[0m\n\u001b[0;32m    849\u001b[0m           \u001b[0mvalidation_steps\u001b[0m\u001b[1;33m=\u001b[0m\u001b[0mvalidation_steps\u001b[0m\u001b[1;33m,\u001b[0m\u001b[1;33m\u001b[0m\u001b[1;33m\u001b[0m\u001b[0m\n\u001b[0;32m    850\u001b[0m           \u001b[0mworkers\u001b[0m\u001b[1;33m=\u001b[0m\u001b[1;36m0\u001b[0m\u001b[1;33m,\u001b[0m\u001b[1;33m\u001b[0m\u001b[1;33m\u001b[0m\u001b[0m\n\u001b[1;32m--> 851\u001b[1;33m           initial_epoch=initial_epoch)\n\u001b[0m\u001b[0;32m    852\u001b[0m     elif distributed_training_utils.is_tpu_strategy(\n\u001b[0;32m    853\u001b[0m         self._distribution_strategy):\n",
      "\u001b[1;32mc:\\users\\paul\\appdata\\local\\programs\\python\\python37\\lib\\site-packages\\tensorflow\\python\\keras\\engine\\training_generator.py\u001b[0m in \u001b[0;36mmodel_iteration\u001b[1;34m(model, data, steps_per_epoch, epochs, verbose, callbacks, validation_data, validation_steps, class_weight, max_queue_size, workers, use_multiprocessing, shuffle, initial_epoch, mode, batch_size, **kwargs)\u001b[0m\n\u001b[0;32m    189\u001b[0m       \u001b[0mprogbar\u001b[0m\u001b[1;33m.\u001b[0m\u001b[0mon_batch_begin\u001b[0m\u001b[1;33m(\u001b[0m\u001b[0mstep\u001b[0m\u001b[1;33m,\u001b[0m \u001b[0mbatch_logs\u001b[0m\u001b[1;33m)\u001b[0m\u001b[1;33m\u001b[0m\u001b[1;33m\u001b[0m\u001b[0m\n\u001b[0;32m    190\u001b[0m \u001b[1;33m\u001b[0m\u001b[0m\n\u001b[1;32m--> 191\u001b[1;33m       \u001b[0mbatch_outs\u001b[0m \u001b[1;33m=\u001b[0m \u001b[0mbatch_function\u001b[0m\u001b[1;33m(\u001b[0m\u001b[1;33m*\u001b[0m\u001b[0mbatch_data\u001b[0m\u001b[1;33m)\u001b[0m\u001b[1;33m\u001b[0m\u001b[1;33m\u001b[0m\u001b[0m\n\u001b[0m\u001b[0;32m    192\u001b[0m       \u001b[1;32mif\u001b[0m \u001b[1;32mnot\u001b[0m \u001b[0misinstance\u001b[0m\u001b[1;33m(\u001b[0m\u001b[0mbatch_outs\u001b[0m\u001b[1;33m,\u001b[0m \u001b[0mlist\u001b[0m\u001b[1;33m)\u001b[0m\u001b[1;33m:\u001b[0m\u001b[1;33m\u001b[0m\u001b[1;33m\u001b[0m\u001b[0m\n\u001b[0;32m    193\u001b[0m         \u001b[0mbatch_outs\u001b[0m \u001b[1;33m=\u001b[0m \u001b[1;33m[\u001b[0m\u001b[0mbatch_outs\u001b[0m\u001b[1;33m]\u001b[0m\u001b[1;33m\u001b[0m\u001b[1;33m\u001b[0m\u001b[0m\n",
      "\u001b[1;32mc:\\users\\paul\\appdata\\local\\programs\\python\\python37\\lib\\site-packages\\tensorflow\\python\\keras\\engine\\training.py\u001b[0m in \u001b[0;36mtrain_on_batch\u001b[1;34m(self, x, y, sample_weight, class_weight, reset_metrics)\u001b[0m\n\u001b[0;32m   1189\u001b[0m       \u001b[1;32melse\u001b[0m\u001b[1;33m:\u001b[0m\u001b[1;33m\u001b[0m\u001b[1;33m\u001b[0m\u001b[0m\n\u001b[0;32m   1190\u001b[0m         \u001b[0mself\u001b[0m\u001b[1;33m.\u001b[0m\u001b[0m_make_fit_function\u001b[0m\u001b[1;33m(\u001b[0m\u001b[1;33m)\u001b[0m\u001b[1;33m\u001b[0m\u001b[1;33m\u001b[0m\u001b[0m\n\u001b[1;32m-> 1191\u001b[1;33m         \u001b[0moutputs\u001b[0m \u001b[1;33m=\u001b[0m \u001b[0mself\u001b[0m\u001b[1;33m.\u001b[0m\u001b[0m_fit_function\u001b[0m\u001b[1;33m(\u001b[0m\u001b[0mins\u001b[0m\u001b[1;33m)\u001b[0m  \u001b[1;31m# pylint: disable=not-callable\u001b[0m\u001b[1;33m\u001b[0m\u001b[1;33m\u001b[0m\u001b[0m\n\u001b[0m\u001b[0;32m   1192\u001b[0m \u001b[1;33m\u001b[0m\u001b[0m\n\u001b[0;32m   1193\u001b[0m     \u001b[1;32mif\u001b[0m \u001b[0mreset_metrics\u001b[0m\u001b[1;33m:\u001b[0m\u001b[1;33m\u001b[0m\u001b[1;33m\u001b[0m\u001b[0m\n",
      "\u001b[1;32mc:\\users\\paul\\appdata\\local\\programs\\python\\python37\\lib\\site-packages\\tensorflow\\python\\keras\\backend.py\u001b[0m in \u001b[0;36m__call__\u001b[1;34m(self, inputs)\u001b[0m\n\u001b[0;32m   3164\u001b[0m         \u001b[0mvalue\u001b[0m \u001b[1;33m=\u001b[0m \u001b[0mmath_ops\u001b[0m\u001b[1;33m.\u001b[0m\u001b[0mcast\u001b[0m\u001b[1;33m(\u001b[0m\u001b[0mvalue\u001b[0m\u001b[1;33m,\u001b[0m \u001b[0mtensor\u001b[0m\u001b[1;33m.\u001b[0m\u001b[0mdtype\u001b[0m\u001b[1;33m)\u001b[0m\u001b[1;33m\u001b[0m\u001b[1;33m\u001b[0m\u001b[0m\n\u001b[0;32m   3165\u001b[0m       \u001b[0mconverted_inputs\u001b[0m\u001b[1;33m.\u001b[0m\u001b[0mappend\u001b[0m\u001b[1;33m(\u001b[0m\u001b[0mvalue\u001b[0m\u001b[1;33m)\u001b[0m\u001b[1;33m\u001b[0m\u001b[1;33m\u001b[0m\u001b[0m\n\u001b[1;32m-> 3166\u001b[1;33m     \u001b[0moutputs\u001b[0m \u001b[1;33m=\u001b[0m \u001b[0mself\u001b[0m\u001b[1;33m.\u001b[0m\u001b[0m_graph_fn\u001b[0m\u001b[1;33m(\u001b[0m\u001b[1;33m*\u001b[0m\u001b[0mconverted_inputs\u001b[0m\u001b[1;33m)\u001b[0m\u001b[1;33m\u001b[0m\u001b[1;33m\u001b[0m\u001b[0m\n\u001b[0m\u001b[0;32m   3167\u001b[0m     return nest.pack_sequence_as(self._outputs_structure,\n\u001b[0;32m   3168\u001b[0m                                  [x.numpy() for x in outputs])\n",
      "\u001b[1;32mc:\\users\\paul\\appdata\\local\\programs\\python\\python37\\lib\\site-packages\\tensorflow\\python\\eager\\function.py\u001b[0m in \u001b[0;36m__call__\u001b[1;34m(self, *args, **kwargs)\u001b[0m\n\u001b[0;32m    366\u001b[0m           \u001b[1;32mraise\u001b[0m \u001b[0mTypeError\u001b[0m\u001b[1;33m(\u001b[0m\u001b[1;34m\"Got two values for keyword '{}'.\"\u001b[0m\u001b[1;33m.\u001b[0m\u001b[0mformat\u001b[0m\u001b[1;33m(\u001b[0m\u001b[0munused_key\u001b[0m\u001b[1;33m)\u001b[0m\u001b[1;33m)\u001b[0m\u001b[1;33m\u001b[0m\u001b[1;33m\u001b[0m\u001b[0m\n\u001b[0;32m    367\u001b[0m       \u001b[1;32mraise\u001b[0m \u001b[0mTypeError\u001b[0m\u001b[1;33m(\u001b[0m\u001b[1;34m\"Keyword arguments {} unknown.\"\u001b[0m\u001b[1;33m.\u001b[0m\u001b[0mformat\u001b[0m\u001b[1;33m(\u001b[0m\u001b[0mkwargs\u001b[0m\u001b[1;33m.\u001b[0m\u001b[0mkeys\u001b[0m\u001b[1;33m(\u001b[0m\u001b[1;33m)\u001b[0m\u001b[1;33m)\u001b[0m\u001b[1;33m)\u001b[0m\u001b[1;33m\u001b[0m\u001b[1;33m\u001b[0m\u001b[0m\n\u001b[1;32m--> 368\u001b[1;33m     \u001b[1;32mreturn\u001b[0m \u001b[0mself\u001b[0m\u001b[1;33m.\u001b[0m\u001b[0m_call_flat\u001b[0m\u001b[1;33m(\u001b[0m\u001b[0margs\u001b[0m\u001b[1;33m)\u001b[0m\u001b[1;33m\u001b[0m\u001b[1;33m\u001b[0m\u001b[0m\n\u001b[0m\u001b[0;32m    369\u001b[0m \u001b[1;33m\u001b[0m\u001b[0m\n\u001b[0;32m    370\u001b[0m   \u001b[1;32mdef\u001b[0m \u001b[0m_filtered_call\u001b[0m\u001b[1;33m(\u001b[0m\u001b[0mself\u001b[0m\u001b[1;33m,\u001b[0m \u001b[0margs\u001b[0m\u001b[1;33m,\u001b[0m \u001b[0mkwargs\u001b[0m\u001b[1;33m)\u001b[0m\u001b[1;33m:\u001b[0m\u001b[1;33m\u001b[0m\u001b[1;33m\u001b[0m\u001b[0m\n",
      "\u001b[1;32mc:\\users\\paul\\appdata\\local\\programs\\python\\python37\\lib\\site-packages\\tensorflow\\python\\eager\\function.py\u001b[0m in \u001b[0;36m_call_flat\u001b[1;34m(self, args)\u001b[0m\n\u001b[0;32m    431\u001b[0m     \u001b[1;31m# Only need to override the gradient in graph mode and when we have outputs.\u001b[0m\u001b[1;33m\u001b[0m\u001b[1;33m\u001b[0m\u001b[1;33m\u001b[0m\u001b[0m\n\u001b[0;32m    432\u001b[0m     \u001b[1;32mif\u001b[0m \u001b[0mcontext\u001b[0m\u001b[1;33m.\u001b[0m\u001b[0mexecuting_eagerly\u001b[0m\u001b[1;33m(\u001b[0m\u001b[1;33m)\u001b[0m \u001b[1;32mor\u001b[0m \u001b[1;32mnot\u001b[0m \u001b[0mself\u001b[0m\u001b[1;33m.\u001b[0m\u001b[0moutputs\u001b[0m\u001b[1;33m:\u001b[0m\u001b[1;33m\u001b[0m\u001b[1;33m\u001b[0m\u001b[0m\n\u001b[1;32m--> 433\u001b[1;33m       \u001b[0moutputs\u001b[0m \u001b[1;33m=\u001b[0m \u001b[0mself\u001b[0m\u001b[1;33m.\u001b[0m\u001b[0m_inference_function\u001b[0m\u001b[1;33m.\u001b[0m\u001b[0mcall\u001b[0m\u001b[1;33m(\u001b[0m\u001b[0mctx\u001b[0m\u001b[1;33m,\u001b[0m \u001b[0margs\u001b[0m\u001b[1;33m)\u001b[0m\u001b[1;33m\u001b[0m\u001b[1;33m\u001b[0m\u001b[0m\n\u001b[0m\u001b[0;32m    434\u001b[0m     \u001b[1;32melse\u001b[0m\u001b[1;33m:\u001b[0m\u001b[1;33m\u001b[0m\u001b[1;33m\u001b[0m\u001b[0m\n\u001b[0;32m    435\u001b[0m       \u001b[1;32mif\u001b[0m \u001b[1;32mnot\u001b[0m \u001b[0mself\u001b[0m\u001b[1;33m.\u001b[0m\u001b[0m_gradient_name\u001b[0m\u001b[1;33m:\u001b[0m\u001b[1;33m\u001b[0m\u001b[1;33m\u001b[0m\u001b[0m\n",
      "\u001b[1;32mc:\\users\\paul\\appdata\\local\\programs\\python\\python37\\lib\\site-packages\\tensorflow\\python\\eager\\function.py\u001b[0m in \u001b[0;36mcall\u001b[1;34m(self, ctx, args)\u001b[0m\n\u001b[0;32m    267\u001b[0m           \u001b[0mexecuting_eagerly\u001b[0m\u001b[1;33m=\u001b[0m\u001b[0mexecuting_eagerly\u001b[0m\u001b[1;33m,\u001b[0m\u001b[1;33m\u001b[0m\u001b[1;33m\u001b[0m\u001b[0m\n\u001b[0;32m    268\u001b[0m           \u001b[0mconfig\u001b[0m\u001b[1;33m=\u001b[0m\u001b[0mfunction_call_options\u001b[0m\u001b[1;33m.\u001b[0m\u001b[0mconfig_proto_serialized\u001b[0m\u001b[1;33m,\u001b[0m\u001b[1;33m\u001b[0m\u001b[1;33m\u001b[0m\u001b[0m\n\u001b[1;32m--> 269\u001b[1;33m           executor_type=function_call_options.executor_type)\n\u001b[0m\u001b[0;32m    270\u001b[0m \u001b[1;33m\u001b[0m\u001b[0m\n\u001b[0;32m    271\u001b[0m     \u001b[1;32mif\u001b[0m \u001b[0mexecuting_eagerly\u001b[0m\u001b[1;33m:\u001b[0m\u001b[1;33m\u001b[0m\u001b[1;33m\u001b[0m\u001b[0m\n",
      "\u001b[1;32mc:\\users\\paul\\appdata\\local\\programs\\python\\python37\\lib\\site-packages\\tensorflow\\python\\ops\\functional_ops.py\u001b[0m in \u001b[0;36mpartitioned_call\u001b[1;34m(args, f, tout, executing_eagerly, config, executor_type)\u001b[0m\n\u001b[0;32m   1081\u001b[0m       outputs = gen_functional_ops.stateful_partitioned_call(\n\u001b[0;32m   1082\u001b[0m           \u001b[0margs\u001b[0m\u001b[1;33m=\u001b[0m\u001b[0margs\u001b[0m\u001b[1;33m,\u001b[0m \u001b[0mTout\u001b[0m\u001b[1;33m=\u001b[0m\u001b[0mtout\u001b[0m\u001b[1;33m,\u001b[0m \u001b[0mf\u001b[0m\u001b[1;33m=\u001b[0m\u001b[0mf\u001b[0m\u001b[1;33m,\u001b[0m \u001b[0mconfig_proto\u001b[0m\u001b[1;33m=\u001b[0m\u001b[0mconfig\u001b[0m\u001b[1;33m,\u001b[0m\u001b[1;33m\u001b[0m\u001b[1;33m\u001b[0m\u001b[0m\n\u001b[1;32m-> 1083\u001b[1;33m           executor_type=executor_type)\n\u001b[0m\u001b[0;32m   1084\u001b[0m     \u001b[1;32melse\u001b[0m\u001b[1;33m:\u001b[0m\u001b[1;33m\u001b[0m\u001b[1;33m\u001b[0m\u001b[0m\n\u001b[0;32m   1085\u001b[0m       outputs = gen_functional_ops.partitioned_call(\n",
      "\u001b[1;32mc:\\users\\paul\\appdata\\local\\programs\\python\\python37\\lib\\site-packages\\tensorflow\\python\\ops\\gen_functional_ops.py\u001b[0m in \u001b[0;36mstateful_partitioned_call\u001b[1;34m(args, Tout, f, config, config_proto, executor_type, name)\u001b[0m\n\u001b[0;32m    506\u001b[0m         \u001b[1;34m\"StatefulPartitionedCall\"\u001b[0m\u001b[1;33m,\u001b[0m \u001b[0mname\u001b[0m\u001b[1;33m,\u001b[0m \u001b[0m_ctx\u001b[0m\u001b[1;33m.\u001b[0m\u001b[0m_post_execution_callbacks\u001b[0m\u001b[1;33m,\u001b[0m \u001b[0margs\u001b[0m\u001b[1;33m,\u001b[0m\u001b[1;33m\u001b[0m\u001b[1;33m\u001b[0m\u001b[0m\n\u001b[0;32m    507\u001b[0m         \u001b[1;34m\"Tout\"\u001b[0m\u001b[1;33m,\u001b[0m \u001b[0mTout\u001b[0m\u001b[1;33m,\u001b[0m \u001b[1;34m\"f\"\u001b[0m\u001b[1;33m,\u001b[0m \u001b[0mf\u001b[0m\u001b[1;33m,\u001b[0m \u001b[1;34m\"config\"\u001b[0m\u001b[1;33m,\u001b[0m \u001b[0mconfig\u001b[0m\u001b[1;33m,\u001b[0m \u001b[1;34m\"config_proto\"\u001b[0m\u001b[1;33m,\u001b[0m \u001b[0mconfig_proto\u001b[0m\u001b[1;33m,\u001b[0m\u001b[1;33m\u001b[0m\u001b[1;33m\u001b[0m\u001b[0m\n\u001b[1;32m--> 508\u001b[1;33m         \"executor_type\", executor_type)\n\u001b[0m\u001b[0;32m    509\u001b[0m       \u001b[1;32mreturn\u001b[0m \u001b[0m_result\u001b[0m\u001b[1;33m\u001b[0m\u001b[1;33m\u001b[0m\u001b[0m\n\u001b[0;32m    510\u001b[0m     \u001b[1;32mexcept\u001b[0m \u001b[0m_core\u001b[0m\u001b[1;33m.\u001b[0m\u001b[0m_FallbackException\u001b[0m\u001b[1;33m:\u001b[0m\u001b[1;33m\u001b[0m\u001b[1;33m\u001b[0m\u001b[0m\n",
      "\u001b[1;31mKeyboardInterrupt\u001b[0m: "
     ]
    }
   ],
   "source": [
    "gru_model.fit(train_dataset_batched, steps_per_epoch=train_size // batch_size, epochs=10)"
   ]
  },
  {
   "cell_type": "code",
   "execution_count": 90,
   "metadata": {},
   "outputs": [
    {
     "name": "stdout",
     "output_type": "stream",
     "text": [
      "2611/2611 [==============================] - 8s 3ms/step - loss: 0.2593 - acc: 0.8536\n"
     ]
    },
    {
     "data": {
      "text/plain": [
       "[0.2592833442724057, 0.8536169]"
      ]
     },
     "execution_count": 90,
     "metadata": {},
     "output_type": "execute_result"
    }
   ],
   "source": [
    "gru_model.evaluate(train_dataset_batched, steps=train_size//batch_size)"
   ]
  },
  {
   "cell_type": "code",
   "execution_count": 187,
   "metadata": {
    "scrolled": true
   },
   "outputs": [
    {
     "name": "stdout",
     "output_type": "stream",
     "text": [
      "2000/2000 [==============================] - 6s 3ms/step - loss: 1.0965 - acc: 0.3594\n"
     ]
    },
    {
     "data": {
      "text/plain": [
       "[1.0964509027004241, 0.35941413]"
      ]
     },
     "execution_count": 187,
     "metadata": {},
     "output_type": "execute_result"
    }
   ],
   "source": [
    "gru_model.evaluate(dev_dataset.batch(batch_size), steps=dev_size//batch_size)"
   ]
  },
  {
   "cell_type": "code",
   "execution_count": 160,
   "metadata": {},
   "outputs": [],
   "source": [
    "gru_model.save_weights(\"gru_s10_b1_acc37.h5\")"
   ]
  },
  {
   "cell_type": "code",
   "execution_count": 188,
   "metadata": {},
   "outputs": [],
   "source": [
    "gru_model_test = build_GRU_model(10, 1, stateful=True)\n",
    "gru_model_test.load_weights(\"gru_s10_b1_acc37.h5\")"
   ]
  },
  {
   "cell_type": "code",
   "execution_count": 189,
   "metadata": {},
   "outputs": [
    {
     "data": {
      "text/plain": [
       "<tf.Tensor: id=6000843, shape=(1, 1, 3), dtype=float32, numpy=array([[[0.32482404, 0.35432974, 0.32084623]]], dtype=float32)>"
      ]
     },
     "execution_count": 189,
     "metadata": {},
     "output_type": "execute_result"
    }
   ],
   "source": [
    "gru_model(np.zeros((1,1,6)).astype(np.float32))"
   ]
  },
  {
   "cell_type": "code",
   "execution_count": 169,
   "metadata": {},
   "outputs": [],
   "source": [
    "gru_model_test.reset_states()"
   ]
  },
  {
   "cell_type": "code",
   "execution_count": 170,
   "metadata": {},
   "outputs": [
    {
     "data": {
      "text/plain": [
       "<tf.Tensor: id=5813456, shape=(1, 1, 3), dtype=float32, numpy=array([[[0.34960175, 0.35163254, 0.29876578]]], dtype=float32)>"
      ]
     },
     "execution_count": 170,
     "metadata": {},
     "output_type": "execute_result"
    }
   ],
   "source": [
    "gru_model_test(make_input_vector())"
   ]
  },
  {
   "cell_type": "code",
   "execution_count": 181,
   "metadata": {},
   "outputs": [
    {
     "data": {
      "text/plain": [
       "<tf.Tensor: id=5814633, shape=(1, 1, 3), dtype=float32, numpy=array([[[0.31505486, 0.36806113, 0.316884  ]]], dtype=float32)>"
      ]
     },
     "execution_count": 181,
     "metadata": {},
     "output_type": "execute_result"
    }
   ],
   "source": [
    "gru_model_test(make_input_vector(\"r\", \"s\"))"
   ]
  },
  {
   "cell_type": "code",
   "execution_count": 167,
   "metadata": {},
   "outputs": [
    {
     "data": {
      "text/plain": [
       "<tf.Tensor: id=5813348, shape=(1, 1, 3), dtype=float32, numpy=array([[[0.3004296 , 0.35954514, 0.34002525]]], dtype=float32)>"
      ]
     },
     "execution_count": 167,
     "metadata": {},
     "output_type": "execute_result"
    }
   ],
   "source": [
    "gru_model(make_input_vector(\"r\", \"s\"))"
   ]
  },
  {
   "cell_type": "code",
   "execution_count": 42,
   "metadata": {},
   "outputs": [],
   "source": [
    "ws = gru_model.get_weights()"
   ]
  },
  {
   "cell_type": "code",
   "execution_count": 45,
   "metadata": {},
   "outputs": [
    {
     "data": {
      "text/plain": [
       "[(6, 30), (10, 30), (60,), (10, 3), (3,)]"
      ]
     },
     "execution_count": 45,
     "metadata": {},
     "output_type": "execute_result"
    }
   ],
   "source": [
    "[w.shape for w in ws]"
   ]
  },
  {
   "cell_type": "code",
   "execution_count": 41,
   "metadata": {},
   "outputs": [
    {
     "data": {
      "text/plain": [
       "<tf.Tensor: id=1876, shape=(1, 1, 3), dtype=float32, numpy=array([[[0.33333334, 0.33333334, 0.33333334]]], dtype=float32)>"
      ]
     },
     "execution_count": 41,
     "metadata": {},
     "output_type": "execute_result"
    }
   ],
   "source": []
  },
  {
   "cell_type": "code",
   "execution_count": null,
   "metadata": {},
   "outputs": [],
   "source": []
  }
 ],
 "metadata": {
  "kernelspec": {
   "display_name": "Python 3",
   "language": "python",
   "name": "python3"
  },
  "language_info": {
   "codemirror_mode": {
    "name": "ipython",
    "version": 3
   },
   "file_extension": ".py",
   "mimetype": "text/x-python",
   "name": "python",
   "nbconvert_exporter": "python",
   "pygments_lexer": "ipython3",
   "version": "3.7.2"
  }
 },
 "nbformat": 4,
 "nbformat_minor": 2
}
